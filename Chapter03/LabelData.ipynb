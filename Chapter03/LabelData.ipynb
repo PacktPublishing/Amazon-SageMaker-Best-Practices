{
 "cells": [
  {
   "source": [
    "# Chapter 2: Data Labeling with SageMaker Ground Truth: Custom Labeling\n",
    "\n",
    "In this notebook we'll perform the following steps:\n",
    "\n",
    "* Create a private workforce backed by a Cognito user pool.\n",
    "* Create a manifest file that lists the items we want to label\n",
    "* Define a custom Ground Truth labeling workflow, consisting of two Lambda functions and a UI template, and launch a labeling job\n",
    "* Add a second worker to our private workforce\n",
    "* Adjust the post-processing part of the workflow to handle input from multiple workers, and launch another labeling job\n",
    "\n"
   ],
   "cell_type": "markdown",
   "metadata": {}
  },
  {
   "source": [
    "## Create a private workforce\n",
    "\n",
    "Before executing the code in this section, review and set the following variables:\n",
    "\n",
    "* `PoolName`: The name for the user pool in Cognito\n",
    "* `ClientName`: The name for the Cognito user pool client\n",
    "* `IdentityPoolName`: The name for the Cognito identity pool\n",
    "* `Region`: The name of the AWS region you're working in\n",
    "* `IamRolePrefix`: A prefix to use when naming new IAM roles\n",
    "* `GroupName`: Name for the Cognito user group\n",
    "* `DomainName`: Domain name for the Cognito authentication page\n",
    "* `WorkteamName`: Name for the private work team\n",
    "* `UserEmail`: User name to use (use a fake email address)\n",
    "* `Password`: Use a password with at least one upper case character, one symbol, and one number"
   ],
   "cell_type": "markdown",
   "metadata": {}
  },
  {
   "cell_type": "code",
   "execution_count": 1,
   "metadata": {},
   "outputs": [],
   "source": [
    "# Constants\n",
    "\n",
    "PoolName = 'MyUserPool'\n",
    "ClientName = 'MyUserPoolClient'\n",
    "IdentityPoolName = 'MyIdentityPool'\n",
    "Region = 'us-east-1'\n",
    "IamRolePrefix = 'MyRole'\n",
    "GroupName = 'MyGroup'\n",
    "DomainName = 'MyDomain'\n",
    "WorkteamName = 'MyTeam'\n",
    "UserEmail = \"me@foo.com\"\n",
    "Password = 'PwTest123!'"
   ]
  },
  {
   "cell_type": "code",
   "execution_count": 88,
   "metadata": {},
   "outputs": [],
   "source": [
    "from utils.cognito-helper import CognitoHelper\n",
    "cognito_helper = CognitoHelper(Region, IamRolePrefix)\n",
    "cognito_helper.create_user_pool(PoolName)\n",
    "cognito_helper.create_user_pool_client(ClientName)\n",
    "cognito_helper.create_identity_pool(IdentityPoolName)\n",
    "cognito_helper.create_group(GroupName)\n",
    "cognito_helper.create_user_pool_domain(DomainName)"
   ]
  },
  {
   "cell_type": "code",
   "execution_count": 48,
   "metadata": {},
   "outputs": [
    {
     "name": "stdout",
     "output_type": "stream",
     "text": [
      "arn:aws:sagemaker:us-east-1:102165494304:workteam/private-crowd/rdtest\n"
     ]
    }
   ],
   "source": [
    "from util.sagemaker-helper import SagemakerHelper\n",
    "sagemaker_helper = SagemakerHelper(Region, IamRolePrefix)\n",
    "sagemaker_helper.create_workteam(WorkteamName, \n",
    "    cognito_helper.user_pool_id, \n",
    "    cognito_helper.group_name, \n",
    "    cognito_helper.user_pool_client_id)\n"
   ]
  },
  {
   "cell_type": "code",
   "execution_count": null,
   "metadata": {},
   "outputs": [],
   "source": [
    "cognito_helper.update_client(sagemaker_helper.get_workforce_domain())"
   ]
  },
  {
   "cell_type": "code",
   "execution_count": 76,
   "metadata": {},
   "outputs": [
    {
     "data": {
      "text/plain": [
       "{'UserConfirmed': False,\n",
       " 'UserSub': 'dac2455f-692c-4e38-b83b-6afbcd6a57ef',\n",
       " 'ResponseMetadata': {'RequestId': '057a69f9-609b-4979-ad47-83475ec05eac',\n",
       "  'HTTPStatusCode': 200,\n",
       "  'HTTPHeaders': {'date': 'Fri, 26 Mar 2021 00:02:48 GMT',\n",
       "   'content-type': 'application/x-amz-json-1.1',\n",
       "   'content-length': '72',\n",
       "   'connection': 'keep-alive',\n",
       "   'x-amzn-requestid': '057a69f9-609b-4979-ad47-83475ec05eac'},\n",
       "  'RetryAttempts': 0}}"
      ]
     },
     "execution_count": 76,
     "metadata": {},
     "output_type": "execute_result"
    }
   ],
   "source": [
    "cognito_helper.add_user(UserEmail, Password)"
   ]
  },
  {
   "source": [
    "## Create a manifest file\n",
    "\n",
    "In this section, you'll need to define:\n",
    "\n",
    "* The name of your S3 bucket\n",
    "* The folder (prefix) where you stored the _OpenAQ_ data set.\n",
    "* The folder (prefix) where you want to store the manifest."
   ],
   "cell_type": "markdown",
   "metadata": {}
  },
  {
   "cell_type": "code",
   "execution_count": 49,
   "metadata": {},
   "outputs": [],
   "source": [
    "s3_bucket = 'MyS3Bucket'\n",
    "s3_prefix = 'openaq/realtime/'\n",
    "s3_prefix_manifest = 'inventory'"
   ]
  },
  {
   "cell_type": "code",
   "execution_count": 105,
   "metadata": {},
   "outputs": [
    {
     "name": "stdout",
     "output_type": "stream",
     "text": [
      "Processing openaq/realtime/2013-11-27/2013-11-27.ndjson\n",
      "Got 40 manifest entries\n"
     ]
    }
   ],
   "source": [
    "sagemaker_helper.create_manifest(s3_bucket, s3_prefix, s3_prefix_manifest)"
   ]
  },
  {
   "source": [
    "## Create custom workflow\n",
    "\n",
    "In this section, you must define:\n",
    "\n",
    "* The folder (prefix) where you want to store the workflow files.\n",
    "* The name prefix for your Lambda functions.\n",
    "* The folder (prefix) where you want to store the labeling output."
   ],
   "cell_type": "markdown",
   "metadata": {}
  },
  {
   "cell_type": "code",
   "execution_count": null,
   "metadata": {},
   "outputs": [],
   "source": [
    "s3_prefix_workflow = 'workflow'\n",
    "fn_prefix = 'MyFn'\n",
    "s3_prefix_labels = 'labels'"
   ]
  },
  {
   "cell_type": "code",
   "execution_count": 114,
   "metadata": {},
   "outputs": [],
   "source": [
    "sagemaker_helper.create_workflow(s3_bucket, s3_prefix_workflow, fn_prefix, s3_prefix_labels)"
   ]
  },
  {
   "source": [
    "## Add another worker\n",
    "\n",
    "In this section you'll need to define:\n",
    "\n",
    "* `UserEmail2`: User name to use for second worker (use a fake email address)\n",
    "* `Password2`: Use a password with at least one upper case character, one symbol, and one number"
   ],
   "cell_type": "markdown",
   "metadata": {}
  },
  {
   "cell_type": "code",
   "execution_count": null,
   "metadata": {},
   "outputs": [],
   "source": [
    "cognito_helper.add_user(UserEmail2, Password2)"
   ]
  },
  {
   "source": [
    "## Launch labeling job for multiple workers"
   ],
   "cell_type": "markdown",
   "metadata": {}
  },
  {
   "cell_type": "code",
   "execution_count": null,
   "metadata": {},
   "outputs": [],
   "source": [
    "sagemaker_helper.create_workflow_multiple_workers(s3_bucket, s3_prefix_workflow, fn_prefix,        \n",
    "    s3_prefix_labels, s3_prefix_labels)"
   ]
  }
 ],
 "metadata": {
  "instance_type": "ml.m5.large",
  "kernelspec": {
   "name": "python3",
   "display_name": "Python 3.8.5 64-bit ('.venv': venv)",
   "metadata": {
    "interpreter": {
     "hash": "cb064b2fb9a88e905f0b275d2c13a9378a141d23a43c9eb5ab74845797a0d104"
    }
   }
  },
  "language_info": {
   "codemirror_mode": {
    "name": "ipython",
    "version": 3
   },
   "file_extension": ".py",
   "mimetype": "text/x-python",
   "name": "python",
   "nbconvert_exporter": "python",
   "pygments_lexer": "ipython3",
   "version": "3.8.5-final"
  }
 },
 "nbformat": 4,
 "nbformat_minor": 4
}