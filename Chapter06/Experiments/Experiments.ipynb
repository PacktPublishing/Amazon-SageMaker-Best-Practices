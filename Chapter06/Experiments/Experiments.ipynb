{
 "cells": [
  {
   "cell_type": "markdown",
   "id": "6a503428",
   "metadata": {},
   "source": [
    "### Tracking and organizing training and tuning jobs with Amazon SageMaker Experiments\n",
    "\n",
    "This notebook demonstrates using SageMaker Experiment capability to organize, track, compare, and evaluate your machine learning (ML) model training experiments.\n",
    "\n",
    "\n",
    "### Overview\n",
    "\n",
    "1. Set up\n",
    "2. Create a SageMaker Experiment\n",
    "3. Train XGBoost regression model as part of the Experiment\n",
    "4. Visualize results from the Experiment."
   ]
  },
  {
   "cell_type": "markdown",
   "id": "776e3d5b",
   "metadata": {},
   "source": [
    "### 1. Set up"
   ]
  },
  {
   "cell_type": "code",
   "execution_count": 18,
   "id": "ba1209de",
   "metadata": {},
   "outputs": [
    {
     "name": "stdout",
     "output_type": "stream",
     "text": [
      "Requirement already satisfied: sagemaker-experiments in /home/ec2-user/anaconda3/envs/python3/lib/python3.6/site-packages (0.1.34)\n",
      "Requirement already satisfied: boto3>=1.16.27 in /home/ec2-user/anaconda3/envs/python3/lib/python3.6/site-packages (from sagemaker-experiments) (1.17.99)\n",
      "Requirement already satisfied: s3transfer<0.5.0,>=0.4.0 in /home/ec2-user/anaconda3/envs/python3/lib/python3.6/site-packages (from boto3>=1.16.27->sagemaker-experiments) (0.4.2)\n",
      "Requirement already satisfied: botocore<1.21.0,>=1.20.99 in /home/ec2-user/anaconda3/envs/python3/lib/python3.6/site-packages (from boto3>=1.16.27->sagemaker-experiments) (1.20.99)\n",
      "Requirement already satisfied: jmespath<1.0.0,>=0.7.1 in /home/ec2-user/anaconda3/envs/python3/lib/python3.6/site-packages (from boto3>=1.16.27->sagemaker-experiments) (0.10.0)\n",
      "Requirement already satisfied: urllib3<1.27,>=1.25.4 in /home/ec2-user/anaconda3/envs/python3/lib/python3.6/site-packages (from botocore<1.21.0,>=1.20.99->boto3>=1.16.27->sagemaker-experiments) (1.26.5)\n",
      "Requirement already satisfied: python-dateutil<3.0.0,>=2.1 in /home/ec2-user/anaconda3/envs/python3/lib/python3.6/site-packages (from botocore<1.21.0,>=1.20.99->boto3>=1.16.27->sagemaker-experiments) (2.8.1)\n",
      "Requirement already satisfied: six>=1.5 in /home/ec2-user/anaconda3/envs/python3/lib/python3.6/site-packages (from python-dateutil<3.0.0,>=2.1->botocore<1.21.0,>=1.20.99->boto3>=1.16.27->sagemaker-experiments) (1.15.0)\n",
      "\u001b[33mWARNING: You are using pip version 21.1.2; however, version 21.2.3 is available.\n",
      "You should consider upgrading via the '/home/ec2-user/anaconda3/envs/python3/bin/python -m pip install --upgrade pip' command.\u001b[0m\n"
     ]
    }
   ],
   "source": [
    "#Install the sagemaker experiments SDK\n",
    "!pip install sagemaker-experiments"
   ]
  },
  {
   "cell_type": "markdown",
   "id": "51f53efa",
   "metadata": {},
   "source": [
    "#### 1.1 Import libraries"
   ]
  },
  {
   "cell_type": "code",
   "execution_count": 19,
   "id": "cb5c2578",
   "metadata": {},
   "outputs": [],
   "source": [
    "import time\n",
    "\n",
    "import boto3\n",
    "import numpy as np\n",
    "import pandas as pd\n",
    "from IPython.display import set_matplotlib_formats\n",
    "from matplotlib import pyplot as plt\n",
    "import datetime\n",
    "\n",
    "import sagemaker\n",
    "from sagemaker import get_execution_role\n",
    "from sagemaker.session import Session\n",
    "from sagemaker.analytics import ExperimentAnalytics\n",
    "from sagemaker.inputs import TrainingInput\n",
    "\n",
    "from smexperiments.experiment import Experiment\n",
    "from smexperiments.trial import Trial\n",
    "from smexperiments.trial_component import TrialComponent\n",
    "from smexperiments.tracker import Tracker\n",
    "\n",
    "region = 'us-west-2'\n",
    "\n",
    "set_matplotlib_formats('retina')"
   ]
  },
  {
   "cell_type": "code",
   "execution_count": 20,
   "id": "8f981167",
   "metadata": {},
   "outputs": [],
   "source": [
    "sess = boto3.Session()\n",
    "sm = sess.client('sagemaker')\n",
    "role = get_execution_role()"
   ]
  },
  {
   "cell_type": "markdown",
   "id": "f97dd9a8",
   "metadata": {},
   "source": [
    "#### 1.2 S3 paths to training and validation data and output paths"
   ]
  },
  {
   "cell_type": "code",
   "execution_count": 21,
   "id": "ffc6e083",
   "metadata": {},
   "outputs": [],
   "source": [
    "# define the data type and paths to the training and validation datasets\n",
    "content_type = \"csv\"\n",
    "\n",
    "#s3_bucket = 'bestpractices-bucket-sm'\n",
    "#s3_prefix = 'prepared_parquet4'\n",
    "\n",
    "#Set the s3_bucket to the correct bucket name created in your datascience environment\n",
    "s3_bucket = 'datascience-environment-notebookinstance--06dc7a0224df'\n",
    "s3_prefix = 'prepared'\n",
    "\n",
    "train_input = TrainingInput(\"s3://{}/{}/{}/\".format(s3_bucket, s3_prefix, 'train'), content_type=content_type, distribution='ShardedByS3Key')\n",
    "validation_input = TrainingInput(\"s3://{}/{}/{}/\".format(s3_bucket, s3_prefix, 'validation'), content_type=content_type, distribution='ShardedByS3Key')"
   ]
  },
  {
   "cell_type": "markdown",
   "id": "d68d8e57",
   "metadata": {},
   "source": [
    "Now lets track the parameters from the training step. "
   ]
  },
  {
   "cell_type": "code",
   "execution_count": 22,
   "id": "908dfbc8",
   "metadata": {},
   "outputs": [],
   "source": [
    "with Tracker.create(display_name=\"Training\", sagemaker_boto_client=sm) as tracker:\n",
    "    tracker.log_parameters({\"learning_rate\": 1.0, \"dropout\": 0.5})\n",
    "    \n",
    "    # we can log the location of the training dataset\n",
    "    tracker.log_input(name=\"weather-training-dataset\", media_type=\"s3/uri\", value=\"s3://{}/{}/{}/\".format(s3_bucket, s3_prefix, 'train'))"
   ]
  },
  {
   "cell_type": "markdown",
   "id": "bdef5991",
   "metadata": {},
   "source": [
    "### 2.  Set up the Experiment"
   ]
  },
  {
   "cell_type": "markdown",
   "id": "8cea3276",
   "metadata": {},
   "source": [
    "Create an experiment to track all the model training iterations. Use Experiments to organize your data science work."
   ]
  },
  {
   "cell_type": "markdown",
   "id": "1901f35b",
   "metadata": {},
   "source": [
    "#### 2.1 Create an Experiment"
   ]
  },
  {
   "cell_type": "code",
   "execution_count": 23,
   "id": "37e37739",
   "metadata": {},
   "outputs": [
    {
     "name": "stdout",
     "output_type": "stream",
     "text": [
      "Experiment(sagemaker_boto_client=<botocore.client.SageMaker object at 0x7f8aea8c7320>,experiment_name='weather-experiment-1628392649',description='Prediction of weather quality',tags=None,experiment_arn='arn:aws:sagemaker:us-west-2:802439482869:experiment/weather-experiment-1628392649',response_metadata={'RequestId': '3ae94205-d193-460a-acab-4a89d547bc2e', 'HTTPStatusCode': 200, 'HTTPHeaders': {'x-amzn-requestid': '3ae94205-d193-460a-acab-4a89d547bc2e', 'content-type': 'application/x-amz-json-1.1', 'content-length': '101', 'date': 'Sun, 08 Aug 2021 03:17:29 GMT'}, 'RetryAttempts': 0})\n"
     ]
    }
   ],
   "source": [
    "weather_experiment = Experiment.create(\n",
    "    experiment_name=f\"weather-experiment-{int(time.time())}\",\n",
    "    description=\"Prediction of weather quality\",\n",
    "    sagemaker_boto_client=sm)\n",
    "print(weather_experiment)"
   ]
  },
  {
   "cell_type": "markdown",
   "id": "3d1b785d",
   "metadata": {},
   "source": [
    "#### 2.2 Track Experiment"
   ]
  },
  {
   "cell_type": "markdown",
   "id": "7aeb9892",
   "metadata": {},
   "source": [
    "Now create a Trial for each training run to track the it's inputs, parameters, and metrics."
   ]
  },
  {
   "cell_type": "markdown",
   "id": "fdd69d6e",
   "metadata": {},
   "source": [
    "While training the XGBoost model on SageMaker, we will experiment with several values for the number of hidden channel in the model. We will create a Trial to track each training job run. We will also create a TrialComponent from the tracker we created before, and add to the Trial.\n",
    "\n",
    "Note the execution of the following code takes a while."
   ]
  },
  {
   "cell_type": "code",
   "execution_count": 24,
   "id": "e547917c",
   "metadata": {},
   "outputs": [],
   "source": [
    "##Keep track of the trails\n",
    "max_depth_trial_name_map = {}\n",
    "##Keep track of the training jobs launched to check if they are complete before analyzing the experiment results.\n",
    "training_jobs =[]\n"
   ]
  },
  {
   "cell_type": "markdown",
   "id": "91a9d011",
   "metadata": {},
   "source": [
    "### 3. Train XGBoost regression model as part of the Experiment"
   ]
  },
  {
   "cell_type": "code",
   "execution_count": 25,
   "id": "a5af3e86",
   "metadata": {},
   "outputs": [
    {
     "name": "stderr",
     "output_type": "stream",
     "text": [
      "INFO:sagemaker.image_uris:Same images used for training and inference. Defaulting to image scope: inference.\n",
      "INFO:sagemaker.image_uris:Ignoring unnecessary instance type: None.\n",
      "INFO:sagemaker.image_uris:Defaulting to the only supported framework/algorithm version: latest.\n",
      "INFO:sagemaker.image_uris:Ignoring unnecessary instance type: None.\n",
      "INFO:sagemaker:Creating training-job with name: xgboost-training-job-1628392650\n",
      "INFO:sagemaker.image_uris:Same images used for training and inference. Defaulting to image scope: inference.\n",
      "INFO:sagemaker.image_uris:Ignoring unnecessary instance type: None.\n",
      "INFO:sagemaker.image_uris:Defaulting to the only supported framework/algorithm version: latest.\n",
      "INFO:sagemaker.image_uris:Ignoring unnecessary instance type: None.\n",
      "INFO:sagemaker:Creating training-job with name: xgboost-training-job-1628392652\n"
     ]
    }
   ],
   "source": [
    "training_instance_type='ml.m5.12xlarge'\n",
    "#Explore two different values for the max_depth hyerparameter for XGBoost model\n",
    "for i, max_depth in enumerate([2, 5]):\n",
    "    # create trial\n",
    "    trial_name = f\"xgboost-training-job-trial-{max_depth}-max-depth-{int(time.time())}\"\n",
    "    xgboost_trial = Trial.create(\n",
    "        trial_name=trial_name, \n",
    "        experiment_name=weather_experiment.experiment_name,\n",
    "        sagemaker_boto_client=sm,\n",
    "    )\n",
    "    max_depth_trial_name_map[max_depth] = trial_name\n",
    "    \n",
    "    # initialize hyperparameters\n",
    "    hyperparameters = {\n",
    "        \"max_depth\": max_depth,\n",
    "        \"eta\":\"0.2\",\n",
    "        \"gamma\":\"4\",\n",
    "        \"min_child_weight\":\"6\",\n",
    "        \"subsample\":\"0.7\",\n",
    "        \"objective\":\"reg:squarederror\",\n",
    "        \"num_round\":\"5\"}\n",
    "\n",
    "    #set an output path where the trained model will be saved\n",
    "    output_prefix = 'weather-experiments'\n",
    "    output_path = 's3://{}/{}/{}/output'.format(s3_bucket, output_prefix, 'xgboost')\n",
    "\n",
    "    # This line automatically looks for the XGBoost image URI and builds an XGBoost container.\n",
    "    # specify the repo_version depending on your preference.\n",
    "    xgboost_container = sagemaker.image_uris.retrieve(\"xgboost\", region, \"1.2-1\")\n",
    "\n",
    "    # construct a SageMaker estimator that calls the xgboost-container\n",
    "    estimator = sagemaker.estimator.Estimator(image_uri=xgboost_container, \n",
    "                                          hyperparameters=hyperparameters,\n",
    "                                          role=sagemaker.get_execution_role(),\n",
    "                                          instance_count=1, \n",
    "                                          instance_type=training_instance_type,   \n",
    "                                          volume_size=200, # 5 GB \n",
    "                                          output_path=output_path)\n",
    "\n",
    "    xgboost_training_job_name = \"xgboost-training-job-{}\".format(int(time.time()))\n",
    "    \n",
    "    training_jobs.append(xgboost_training_job_name)\n",
    "    \n",
    "    # Now associate the estimator with the Experiment and Trial\n",
    "    estimator.fit(\n",
    "        inputs={'train': train_input}, \n",
    "        job_name=xgboost_training_job_name,\n",
    "        experiment_config={\n",
    "            \"TrialName\": xgboost_trial.trial_name,\n",
    "            \"TrialComponentDisplayName\": \"Training\"\n",
    "        },\n",
    "        wait=False, #Don't wait for the training job to be completed\n",
    "    )\n",
    "    \n",
    "    # Wait before launching the next training job\n",
    "    time.sleep(2)"
   ]
  },
  {
   "cell_type": "code",
   "execution_count": 26,
   "id": "1e192d08",
   "metadata": {},
   "outputs": [
    {
     "data": {
      "text/plain": [
       "{2: 'xgboost-training-job-trial-2-max-depth-1628392649',\n",
       " 5: 'xgboost-training-job-trial-5-max-depth-1628392652'}"
      ]
     },
     "execution_count": 26,
     "metadata": {},
     "output_type": "execute_result"
    }
   ],
   "source": [
    "max_depth_trial_name_map"
   ]
  },
  {
   "cell_type": "code",
   "execution_count": 27,
   "id": "7eda9ed7",
   "metadata": {},
   "outputs": [
    {
     "name": "stdout",
     "output_type": "stream",
     "text": [
      "TrialSummary(trial_name='xgboost-training-job-trial-5-max-depth-1628392652',trial_arn='arn:aws:sagemaker:us-west-2:802439482869:experiment-trial/xgboost-training-job-trial-5-max-depth-1628392652',display_name='xgboost-training-job-trial-5-max-depth-1628392652',creation_time=datetime.datetime(2021, 8, 8, 3, 17, 32, 730000, tzinfo=tzlocal()),last_modified_time=datetime.datetime(2021, 8, 8, 3, 17, 32, 730000, tzinfo=tzlocal()))\n",
      "TrialSummary(trial_name='xgboost-training-job-trial-2-max-depth-1628392649',trial_arn='arn:aws:sagemaker:us-west-2:802439482869:experiment-trial/xgboost-training-job-trial-2-max-depth-1628392649',display_name='xgboost-training-job-trial-2-max-depth-1628392649',creation_time=datetime.datetime(2021, 8, 8, 3, 17, 29, 979000, tzinfo=tzlocal()),last_modified_time=datetime.datetime(2021, 8, 8, 3, 17, 29, 979000, tzinfo=tzlocal()))\n"
     ]
    }
   ],
   "source": [
    "##Quick check of the trails of the experiment\n",
    "trails = weather_experiment.list_trials()\n",
    "type(trails)\n",
    "for trial in trails:\n",
    "    print(trial)"
   ]
  },
  {
   "cell_type": "code",
   "execution_count": null,
   "id": "fea9947d",
   "metadata": {},
   "outputs": [
    {
     "name": "stdout",
     "output_type": "stream",
     "text": [
      "Training job name: xgboost-training-job-1628392650\n",
      "Status : InProgress\n",
      "Status InProgress\n",
      "Status InProgress\n",
      "Status InProgress\n",
      "Status InProgress\n",
      "Status InProgress\n"
     ]
    }
   ],
   "source": [
    "##Wait till the training jobs are complete.\n",
    "for training_job in training_jobs:\n",
    "    print(\"Training job name: \" + training_job)\n",
    "    description = sm.describe_training_job(TrainingJobName=training_job)\n",
    "    print(\"Status : \" + description[\"TrainingJobStatus\"])\n",
    "    \n",
    "    while description[\"TrainingJobStatus\"] != \"Completed\" and description[\"TrainingJobStatus\"] != \"Failed\":\n",
    "        description = sm.describe_training_job(TrainingJobName=training_job)\n",
    "        primary_status = description[\"TrainingJobStatus\"]\n",
    "        print(\"Status {}\".format(primary_status))\n",
    "        time.sleep(15)"
   ]
  },
  {
   "cell_type": "markdown",
   "id": "1f43971e",
   "metadata": {},
   "source": [
    "### 4. Visualize results from the Experiment.\n",
    "Compare the model training runs of an experiment using the analytics capabilities of Python SDK to query and compare the training runs for identifying the best model produced by our experiment. You can retrieve trial components by using a search expression."
   ]
  },
  {
   "cell_type": "code",
   "execution_count": null,
   "id": "53d4348e",
   "metadata": {},
   "outputs": [],
   "source": [
    "experiment_name = weather_experiment.experiment_name\n",
    "experiment_name"
   ]
  },
  {
   "cell_type": "code",
   "execution_count": null,
   "id": "d2d57858",
   "metadata": {},
   "outputs": [],
   "source": [
    "from sagemaker.analytics import ExperimentAnalytics\n",
    "sess = boto3.Session()\n",
    "sm = sess.client(\"sagemaker\")\n",
    "sagemaker_session = Session(sess)\n",
    "\n",
    "trial_component_analytics = ExperimentAnalytics(\n",
    "    sagemaker_session=sagemaker_session, experiment_name=experiment_name\n",
    ")\n",
    "trial_comp_ds_jobs = trial_component_analytics.dataframe()\n",
    "trial_comp_ds_jobs"
   ]
  },
  {
   "cell_type": "markdown",
   "id": "26b7d585",
   "metadata": {},
   "source": [
    "Results show the RMSE metrics for the various hyperparameters tried as part of the Experiment"
   ]
  },
  {
   "cell_type": "code",
   "execution_count": null,
   "id": "1d36c6a5",
   "metadata": {},
   "outputs": [],
   "source": []
  }
 ],
 "metadata": {
  "kernelspec": {
   "display_name": "conda_python3",
   "language": "python",
   "name": "conda_python3"
  },
  "language_info": {
   "codemirror_mode": {
    "name": "ipython",
    "version": 3
   },
   "file_extension": ".py",
   "mimetype": "text/x-python",
   "name": "python",
   "nbconvert_exporter": "python",
   "pygments_lexer": "ipython3",
   "version": "3.6.13"
  }
 },
 "nbformat": 4,
 "nbformat_minor": 5
}
