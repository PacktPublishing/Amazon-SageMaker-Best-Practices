{
 "cells": [
  {
   "cell_type": "markdown",
   "id": "da3c127e",
   "metadata": {},
   "source": [
    "## Amazon SageMaker Featurestore\n",
    "\n",
    "Notebook to demonstrate creation of offline (default mode), offline + online and online only feature groups.\n",
    "\n",
    "1. Setup\n",
    "2. Create feature groups\n",
    "3. Ingest features into feature group\n",
    "4. Delete the feature groups"
   ]
  },
  {
   "cell_type": "markdown",
   "id": "48323f1c",
   "metadata": {},
   "source": [
    "### 1. Setup"
   ]
  },
  {
   "cell_type": "markdown",
   "id": "4718888f",
   "metadata": {},
   "source": [
    "#### 1.1. Imports"
   ]
  },
  {
   "cell_type": "code",
   "execution_count": 1,
   "id": "d7770453",
   "metadata": {},
   "outputs": [],
   "source": [
    "import boto3\n",
    "import pandas as pd\n",
    "import numpy as np\n",
    "import io\n",
    "import sagemaker\n",
    "import sys\n",
    "import json\n",
    "import time\n",
    "from time import gmtime, strftime, sleep\n",
    "\n",
    "from sagemaker.session import Session\n",
    "from sagemaker import get_execution_role\n",
    "\n",
    "from sagemaker.feature_store.feature_group import FeatureGroup\n",
    "from sagemaker.feature_store.feature_group import FeatureDefinition\n",
    "from sagemaker.feature_store.feature_group import FeatureTypeEnum"
   ]
  },
  {
   "cell_type": "markdown",
   "id": "4c760be5",
   "metadata": {},
   "source": [
    "#### 1.2 Install required version of sagemaker libraries"
   ]
  },
  {
   "cell_type": "code",
   "execution_count": 2,
   "id": "77584248",
   "metadata": {},
   "outputs": [
    {
     "name": "stdout",
     "output_type": "stream",
     "text": [
      "Requirement already satisfied: sagemaker>=2.0.0 in /home/ec2-user/anaconda3/envs/python3/lib/python3.6/site-packages (2.45.0)\n",
      "Requirement already satisfied: boto3>=1.16.32 in /home/ec2-user/anaconda3/envs/python3/lib/python3.6/site-packages (from sagemaker>=2.0.0) (1.17.99)\n",
      "Requirement already satisfied: protobuf3-to-dict>=0.1.5 in /home/ec2-user/anaconda3/envs/python3/lib/python3.6/site-packages (from sagemaker>=2.0.0) (0.1.5)\n",
      "Requirement already satisfied: numpy>=1.9.0 in /home/ec2-user/anaconda3/envs/python3/lib/python3.6/site-packages (from sagemaker>=2.0.0) (1.19.5)\n",
      "Requirement already satisfied: smdebug-rulesconfig==1.0.1 in /home/ec2-user/anaconda3/envs/python3/lib/python3.6/site-packages (from sagemaker>=2.0.0) (1.0.1)\n",
      "Requirement already satisfied: importlib-metadata>=1.4.0 in /home/ec2-user/anaconda3/envs/python3/lib/python3.6/site-packages (from sagemaker>=2.0.0) (3.7.0)\n",
      "Requirement already satisfied: pathos in /home/ec2-user/anaconda3/envs/python3/lib/python3.6/site-packages (from sagemaker>=2.0.0) (0.2.7)\n",
      "Requirement already satisfied: pandas in /home/ec2-user/anaconda3/envs/python3/lib/python3.6/site-packages (from sagemaker>=2.0.0) (1.1.5)\n",
      "Requirement already satisfied: attrs in /home/ec2-user/anaconda3/envs/python3/lib/python3.6/site-packages (from sagemaker>=2.0.0) (20.3.0)\n",
      "Requirement already satisfied: packaging>=20.0 in /home/ec2-user/anaconda3/envs/python3/lib/python3.6/site-packages (from sagemaker>=2.0.0) (20.9)\n",
      "Requirement already satisfied: google-pasta in /home/ec2-user/anaconda3/envs/python3/lib/python3.6/site-packages (from sagemaker>=2.0.0) (0.2.0)\n",
      "Requirement already satisfied: protobuf>=3.1 in /home/ec2-user/anaconda3/envs/python3/lib/python3.6/site-packages (from sagemaker>=2.0.0) (3.15.2)\n",
      "Requirement already satisfied: botocore<1.21.0,>=1.20.99 in /home/ec2-user/anaconda3/envs/python3/lib/python3.6/site-packages (from boto3>=1.16.32->sagemaker>=2.0.0) (1.20.99)\n",
      "Requirement already satisfied: jmespath<1.0.0,>=0.7.1 in /home/ec2-user/anaconda3/envs/python3/lib/python3.6/site-packages (from boto3>=1.16.32->sagemaker>=2.0.0) (0.10.0)\n",
      "Requirement already satisfied: s3transfer<0.5.0,>=0.4.0 in /home/ec2-user/anaconda3/envs/python3/lib/python3.6/site-packages (from boto3>=1.16.32->sagemaker>=2.0.0) (0.4.2)\n",
      "Requirement already satisfied: python-dateutil<3.0.0,>=2.1 in /home/ec2-user/anaconda3/envs/python3/lib/python3.6/site-packages (from botocore<1.21.0,>=1.20.99->boto3>=1.16.32->sagemaker>=2.0.0) (2.8.1)\n",
      "Requirement already satisfied: urllib3<1.27,>=1.25.4 in /home/ec2-user/anaconda3/envs/python3/lib/python3.6/site-packages (from botocore<1.21.0,>=1.20.99->boto3>=1.16.32->sagemaker>=2.0.0) (1.26.5)\n",
      "Requirement already satisfied: zipp>=0.5 in /home/ec2-user/anaconda3/envs/python3/lib/python3.6/site-packages (from importlib-metadata>=1.4.0->sagemaker>=2.0.0) (3.4.0)\n",
      "Requirement already satisfied: typing-extensions>=3.6.4 in /home/ec2-user/anaconda3/envs/python3/lib/python3.6/site-packages (from importlib-metadata>=1.4.0->sagemaker>=2.0.0) (3.7.4.3)\n",
      "Requirement already satisfied: pyparsing>=2.0.2 in /home/ec2-user/anaconda3/envs/python3/lib/python3.6/site-packages (from packaging>=20.0->sagemaker>=2.0.0) (2.4.7)\n",
      "Requirement already satisfied: six>=1.9 in /home/ec2-user/anaconda3/envs/python3/lib/python3.6/site-packages (from protobuf>=3.1->sagemaker>=2.0.0) (1.15.0)\n",
      "Requirement already satisfied: pytz>=2017.2 in /home/ec2-user/anaconda3/envs/python3/lib/python3.6/site-packages (from pandas->sagemaker>=2.0.0) (2021.1)\n",
      "Requirement already satisfied: pox>=0.2.9 in /home/ec2-user/anaconda3/envs/python3/lib/python3.6/site-packages (from pathos->sagemaker>=2.0.0) (0.2.9)\n",
      "Requirement already satisfied: ppft>=1.6.6.3 in /home/ec2-user/anaconda3/envs/python3/lib/python3.6/site-packages (from pathos->sagemaker>=2.0.0) (1.6.6.3)\n",
      "Requirement already satisfied: dill>=0.3.3 in /home/ec2-user/anaconda3/envs/python3/lib/python3.6/site-packages (from pathos->sagemaker>=2.0.0) (0.3.3)\n",
      "Requirement already satisfied: multiprocess>=0.70.11 in /home/ec2-user/anaconda3/envs/python3/lib/python3.6/site-packages (from pathos->sagemaker>=2.0.0) (0.70.11.1)\n",
      "\u001b[33mWARNING: You are using pip version 21.1.2; however, version 21.2.3 is available.\n",
      "You should consider upgrading via the '/home/ec2-user/anaconda3/envs/python3/bin/python -m pip install --upgrade pip' command.\u001b[0m\n",
      "Note: you may need to restart the kernel to use updated packages.\n"
     ]
    }
   ],
   "source": [
    "# SageMaker Python SDK version 2.x is required\n",
    "original_version = sagemaker.__version__\n",
    "%pip install 'sagemaker>=2.0.0'"
   ]
  },
  {
   "cell_type": "markdown",
   "id": "9d6bb0a4",
   "metadata": {},
   "source": [
    "#### 1.3 Setup variables"
   ]
  },
  {
   "cell_type": "code",
   "execution_count": 3,
   "id": "2710543b",
   "metadata": {},
   "outputs": [],
   "source": [
    "prefix = 'sagemaker-featurestore-weather'\n",
    "role = get_execution_role()\n",
    "\n",
    "sagemaker_session = sagemaker.Session()\n",
    "region = sagemaker_session.boto_region_name\n",
    "s3_bucket_name = sagemaker_session.default_bucket()"
   ]
  },
  {
   "cell_type": "markdown",
   "id": "9a4712af",
   "metadata": {},
   "source": [
    "#### 1.4 Setup service clients"
   ]
  },
  {
   "cell_type": "code",
   "execution_count": 4,
   "id": "c3d7f8f1",
   "metadata": {},
   "outputs": [],
   "source": [
    "#Create the service clients\n",
    "sagemaker_fs_runtime_client = sagemaker_session.boto_session.client('sagemaker-featurestore-runtime')\n",
    "sagemaker_runtime = sagemaker_session.boto_session.client('sagemaker-runtime')\n",
    "sagemaker_client = sagemaker_session.boto_session.client('sagemaker')\n",
    "s3_client = boto3.client('s3', region_name=region)"
   ]
  },
  {
   "cell_type": "markdown",
   "id": "040037d8",
   "metadata": {},
   "source": [
    "### 2. Create a feature groups\n",
    "We will use the location feature group that holds the weather station location related features, to demonstrate the usage of APIs"
   ]
  },
  {
   "cell_type": "code",
   "execution_count": 5,
   "id": "ec65eab5",
   "metadata": {},
   "outputs": [],
   "source": [
    "#Feature group name\n",
    "location_feature_group_name_offline = 'location-feature-group-offline-' + strftime('%d-%H-%M-%S', gmtime())\n",
    "location_feature_group_name_online = 'location-feature-group-online-' + strftime('%d-%H-%M-%S', gmtime())\n",
    "location_feature_group_name_offline_online = 'location-feature-group-offline-online-' + strftime('%d-%H-%M-%S', gmtime())"
   ]
  },
  {
   "cell_type": "code",
   "execution_count": 6,
   "id": "f6fc439b",
   "metadata": {},
   "outputs": [],
   "source": [
    "##Create FeatureDefinitions\n",
    "fd_location=FeatureDefinition(feature_name='location', feature_type=FeatureTypeEnum('Fractional'))\n",
    "fd_value=FeatureDefinition(feature_name='city', feature_type=FeatureTypeEnum('Fractional'))\n",
    "fd_is_mobile=FeatureDefinition(feature_name='ismobile', feature_type=FeatureTypeEnum('Integral'))\n",
    "fd_source_name=FeatureDefinition(feature_name='sourcename', feature_type=FeatureTypeEnum('Fractional'))\n",
    "fd_source_type=FeatureDefinition(feature_name='sourcetype', feature_type=FeatureTypeEnum('Fractional'))\n",
    "fd_event_time=FeatureDefinition(feature_name='EventTime', feature_type=FeatureTypeEnum('Fractional'))\n",
    "\n",
    "location_feature_definitions = []\n",
    "location_feature_definitions.append(fd_location)\n",
    "location_feature_definitions.append(fd_value)\n",
    "location_feature_definitions.append(fd_is_mobile)\n",
    "location_feature_definitions.append(fd_source_name)\n",
    "location_feature_definitions.append(fd_source_type)\n",
    "location_feature_definitions.append(fd_event_time)\n"
   ]
  },
  {
   "cell_type": "code",
   "execution_count": 7,
   "id": "9abc8ffa",
   "metadata": {},
   "outputs": [],
   "source": [
    "##Define unique identifier\n",
    "record_identifier_feature_name = \"location\""
   ]
  },
  {
   "cell_type": "markdown",
   "id": "bdb7c53b",
   "metadata": {},
   "source": [
    "#### 2.1 Create offline only feature group (Default mode)"
   ]
  },
  {
   "cell_type": "code",
   "execution_count": 8,
   "id": "144fc142",
   "metadata": {},
   "outputs": [
    {
     "data": {
      "text/plain": [
       "{'FeatureGroupArn': 'arn:aws:sagemaker:us-west-2:802439482869:feature-group/location-feature-group-offline-07-15-47-35',\n",
       " 'ResponseMetadata': {'RequestId': 'd7d84ce8-b69e-426a-8838-9bcab6a9d3e1',\n",
       "  'HTTPStatusCode': 200,\n",
       "  'HTTPHeaders': {'x-amzn-requestid': 'd7d84ce8-b69e-426a-8838-9bcab6a9d3e1',\n",
       "   'content-type': 'application/x-amz-json-1.1',\n",
       "   'content-length': '119',\n",
       "   'date': 'Sat, 07 Aug 2021 15:47:43 GMT'},\n",
       "  'RetryAttempts': 0}}"
      ]
     },
     "execution_count": 8,
     "metadata": {},
     "output_type": "execute_result"
    }
   ],
   "source": [
    "#Create offline feature group\n",
    "location_feature_group_offline = FeatureGroup(name=location_feature_group_name_offline, \n",
    "                                     feature_definitions=location_feature_definitions,\n",
    "                                     sagemaker_session=sagemaker_session)\n",
    "\n",
    "location_feature_group_offline.create(\n",
    "    s3_uri=f\"s3://{s3_bucket_name}/{prefix}\",\n",
    "    record_identifier_name=\"location\",\n",
    "    event_time_feature_name=\"EventTime\",\n",
    "    role_arn=role,\n",
    "    tags=[{'Key':'project','Value':'weather-prediction'}]\n",
    ")"
   ]
  },
  {
   "cell_type": "code",
   "execution_count": 9,
   "id": "8810434a",
   "metadata": {},
   "outputs": [
    {
     "data": {
      "text/plain": [
       "{'FeatureGroupArn': 'arn:aws:sagemaker:us-west-2:802439482869:feature-group/location-feature-group-offline-07-15-47-35',\n",
       " 'FeatureGroupName': 'location-feature-group-offline-07-15-47-35',\n",
       " 'RecordIdentifierFeatureName': 'location',\n",
       " 'EventTimeFeatureName': 'EventTime',\n",
       " 'FeatureDefinitions': [{'FeatureName': 'location',\n",
       "   'FeatureType': 'Fractional'},\n",
       "  {'FeatureName': 'city', 'FeatureType': 'Fractional'},\n",
       "  {'FeatureName': 'ismobile', 'FeatureType': 'Integral'},\n",
       "  {'FeatureName': 'sourcename', 'FeatureType': 'Fractional'},\n",
       "  {'FeatureName': 'sourcetype', 'FeatureType': 'Fractional'},\n",
       "  {'FeatureName': 'EventTime', 'FeatureType': 'Fractional'}],\n",
       " 'CreationTime': datetime.datetime(2021, 8, 7, 15, 47, 43, 680000, tzinfo=tzlocal()),\n",
       " 'OfflineStoreConfig': {'S3StorageConfig': {'S3Uri': 's3://sagemaker-us-west-2-802439482869/sagemaker-featurestore-weather',\n",
       "   'ResolvedOutputS3Uri': 's3://sagemaker-us-west-2-802439482869/sagemaker-featurestore-weather/802439482869/sagemaker/us-west-2/offline-store/location-feature-group-offline-07-15-47-35-1628351263/data'},\n",
       "  'DisableGlueTableCreation': False},\n",
       " 'RoleArn': 'arn:aws:iam::802439482869:role/DataScienceEnvironment-SageMakerRole-1SVE0FKUVRVO5',\n",
       " 'FeatureGroupStatus': 'Creating',\n",
       " 'ResponseMetadata': {'RequestId': 'f540e493-57d8-4df9-884e-9575084a5a11',\n",
       "  'HTTPStatusCode': 200,\n",
       "  'HTTPHeaders': {'x-amzn-requestid': 'f540e493-57d8-4df9-884e-9575084a5a11',\n",
       "   'content-type': 'application/x-amz-json-1.1',\n",
       "   'content-length': '1116',\n",
       "   'date': 'Sat, 07 Aug 2021 15:47:44 GMT'},\n",
       "  'RetryAttempts': 0}}"
      ]
     },
     "execution_count": 9,
     "metadata": {},
     "output_type": "execute_result"
    }
   ],
   "source": [
    "#Describe the feature group\n",
    "location_feature_group_offline.describe()"
   ]
  },
  {
   "cell_type": "markdown",
   "id": "c45878d5",
   "metadata": {},
   "source": [
    "#### 2.2 Create offline + online feature group"
   ]
  },
  {
   "cell_type": "code",
   "execution_count": 10,
   "id": "d4f41e76",
   "metadata": {},
   "outputs": [
    {
     "data": {
      "text/plain": [
       "{'FeatureGroupArn': 'arn:aws:sagemaker:us-west-2:802439482869:feature-group/location-feature-group-offline-online-07-15-47-35',\n",
       " 'ResponseMetadata': {'RequestId': 'e3aee3db-5c04-417d-8a64-32141078f2e7',\n",
       "  'HTTPStatusCode': 200,\n",
       "  'HTTPHeaders': {'x-amzn-requestid': 'e3aee3db-5c04-417d-8a64-32141078f2e7',\n",
       "   'content-type': 'application/x-amz-json-1.1',\n",
       "   'content-length': '126',\n",
       "   'date': 'Sat, 07 Aug 2021 15:48:18 GMT'},\n",
       "  'RetryAttempts': 0}}"
      ]
     },
     "execution_count": 10,
     "metadata": {},
     "output_type": "execute_result"
    }
   ],
   "source": [
    "#Create offline + online feature group\n",
    "#Note the usage of enable_online_store parameter\n",
    "location_feature_group_offline_online = FeatureGroup(name=location_feature_group_name_offline_online, \n",
    "                                     feature_definitions=location_feature_definitions,\n",
    "                                     sagemaker_session=sagemaker_session)\n",
    "\n",
    "location_feature_group_offline_online.create(\n",
    "    s3_uri=f\"s3://{s3_bucket_name}/{prefix}\",\n",
    "    record_identifier_name=\"location\",\n",
    "    event_time_feature_name=\"EventTime\",\n",
    "    role_arn=role,\n",
    "    enable_online_store=True,\n",
    "    tags=[{'Key':'project','Value':'weather-prediction'}]\n",
    ")"
   ]
  },
  {
   "cell_type": "code",
   "execution_count": 11,
   "id": "a0e1a927",
   "metadata": {},
   "outputs": [
    {
     "data": {
      "text/plain": [
       "{'FeatureGroupArn': 'arn:aws:sagemaker:us-west-2:802439482869:feature-group/location-feature-group-offline-online-07-15-47-35',\n",
       " 'FeatureGroupName': 'location-feature-group-offline-online-07-15-47-35',\n",
       " 'RecordIdentifierFeatureName': 'location',\n",
       " 'EventTimeFeatureName': 'EventTime',\n",
       " 'FeatureDefinitions': [{'FeatureName': 'location',\n",
       "   'FeatureType': 'Fractional'},\n",
       "  {'FeatureName': 'city', 'FeatureType': 'Fractional'},\n",
       "  {'FeatureName': 'ismobile', 'FeatureType': 'Integral'},\n",
       "  {'FeatureName': 'sourcename', 'FeatureType': 'Fractional'},\n",
       "  {'FeatureName': 'sourcetype', 'FeatureType': 'Fractional'},\n",
       "  {'FeatureName': 'EventTime', 'FeatureType': 'Fractional'}],\n",
       " 'CreationTime': datetime.datetime(2021, 8, 7, 15, 48, 18, 323000, tzinfo=tzlocal()),\n",
       " 'OnlineStoreConfig': {'EnableOnlineStore': True},\n",
       " 'OfflineStoreConfig': {'S3StorageConfig': {'S3Uri': 's3://sagemaker-us-west-2-802439482869/sagemaker-featurestore-weather',\n",
       "   'ResolvedOutputS3Uri': 's3://sagemaker-us-west-2-802439482869/sagemaker-featurestore-weather/802439482869/sagemaker/us-west-2/offline-store/location-feature-group-offline-online-07-15-47-35-1628351298/data'},\n",
       "  'DisableGlueTableCreation': False},\n",
       " 'RoleArn': 'arn:aws:iam::802439482869:role/DataScienceEnvironment-SageMakerRole-1SVE0FKUVRVO5',\n",
       " 'FeatureGroupStatus': 'Creating',\n",
       " 'ResponseMetadata': {'RequestId': 'bed58456-2416-48ca-8058-eea4856e5ef2',\n",
       "  'HTTPStatusCode': 200,\n",
       "  'HTTPHeaders': {'x-amzn-requestid': 'bed58456-2416-48ca-8058-eea4856e5ef2',\n",
       "   'content-type': 'application/x-amz-json-1.1',\n",
       "   'content-length': '1210',\n",
       "   'date': 'Sat, 07 Aug 2021 15:48:20 GMT'},\n",
       "  'RetryAttempts': 0}}"
      ]
     },
     "execution_count": 11,
     "metadata": {},
     "output_type": "execute_result"
    }
   ],
   "source": [
    "#Describe the feature group\n",
    "location_feature_group_offline_online.describe()"
   ]
  },
  {
   "cell_type": "markdown",
   "id": "8f0bb7cd",
   "metadata": {},
   "source": [
    "#### 2.3 Create online only feature group"
   ]
  },
  {
   "cell_type": "code",
   "execution_count": 12,
   "id": "1bcdbe30",
   "metadata": {},
   "outputs": [
    {
     "data": {
      "text/plain": [
       "{'FeatureGroupArn': 'arn:aws:sagemaker:us-west-2:802439482869:feature-group/location-feature-group-online-07-15-47-35',\n",
       " 'ResponseMetadata': {'RequestId': '9bc11cde-9069-4f14-a644-8582351129fd',\n",
       "  'HTTPStatusCode': 200,\n",
       "  'HTTPHeaders': {'x-amzn-requestid': '9bc11cde-9069-4f14-a644-8582351129fd',\n",
       "   'content-type': 'application/x-amz-json-1.1',\n",
       "   'content-length': '118',\n",
       "   'date': 'Sat, 07 Aug 2021 15:48:48 GMT'},\n",
       "  'RetryAttempts': 0}}"
      ]
     },
     "execution_count": 12,
     "metadata": {},
     "output_type": "execute_result"
    }
   ],
   "source": [
    "#Create online feature group\n",
    "#Note s3_uri flag set to False for the online only FG\n",
    "location_feature_group_online = FeatureGroup(name=location_feature_group_name_online, \n",
    "                                     feature_definitions=location_feature_definitions,\n",
    "                                     sagemaker_session=sagemaker_session)\n",
    "\n",
    "location_feature_group_online.create(\n",
    "    s3_uri=False,\n",
    "    record_identifier_name=\"location\", \n",
    "    event_time_feature_name=\"EventTime\",\n",
    "    role_arn=role,\n",
    "    enable_online_store=True,\n",
    "    tags=[{'Key':'project','Value':'weather-prediction'}]\n",
    ")"
   ]
  },
  {
   "cell_type": "code",
   "execution_count": 13,
   "id": "beb573f9",
   "metadata": {},
   "outputs": [
    {
     "data": {
      "text/plain": [
       "{'FeatureGroupArn': 'arn:aws:sagemaker:us-west-2:802439482869:feature-group/location-feature-group-online-07-15-47-35',\n",
       " 'FeatureGroupName': 'location-feature-group-online-07-15-47-35',\n",
       " 'RecordIdentifierFeatureName': 'location',\n",
       " 'EventTimeFeatureName': 'EventTime',\n",
       " 'FeatureDefinitions': [{'FeatureName': 'location',\n",
       "   'FeatureType': 'Fractional'},\n",
       "  {'FeatureName': 'city', 'FeatureType': 'Fractional'},\n",
       "  {'FeatureName': 'ismobile', 'FeatureType': 'Integral'},\n",
       "  {'FeatureName': 'sourcename', 'FeatureType': 'Fractional'},\n",
       "  {'FeatureName': 'sourcetype', 'FeatureType': 'Fractional'},\n",
       "  {'FeatureName': 'EventTime', 'FeatureType': 'Fractional'}],\n",
       " 'CreationTime': datetime.datetime(2021, 8, 7, 15, 48, 49, 168000, tzinfo=tzlocal()),\n",
       " 'OnlineStoreConfig': {'EnableOnlineStore': True},\n",
       " 'RoleArn': 'arn:aws:iam::802439482869:role/DataScienceEnvironment-SageMakerRole-1SVE0FKUVRVO5',\n",
       " 'FeatureGroupStatus': 'Creating',\n",
       " 'ResponseMetadata': {'RequestId': 'cc1d5191-a281-4b25-a2a4-5f149973d7d8',\n",
       "  'HTTPStatusCode': 200,\n",
       "  'HTTPHeaders': {'x-amzn-requestid': 'cc1d5191-a281-4b25-a2a4-5f149973d7d8',\n",
       "   'content-type': 'application/x-amz-json-1.1',\n",
       "   'content-length': '833',\n",
       "   'date': 'Sat, 07 Aug 2021 15:48:50 GMT'},\n",
       "  'RetryAttempts': 0}}"
      ]
     },
     "execution_count": 13,
     "metadata": {},
     "output_type": "execute_result"
    }
   ],
   "source": [
    "#Describe the feature group\n",
    "location_feature_group_online.describe()"
   ]
  },
  {
   "cell_type": "markdown",
   "id": "3493a2e8",
   "metadata": {},
   "source": [
    "#### 2.4. List all featuregroups"
   ]
  },
  {
   "cell_type": "code",
   "execution_count": 14,
   "id": "2ceda4b6",
   "metadata": {},
   "outputs": [
    {
     "data": {
      "text/plain": [
       "{'FeatureGroupSummaries': [{'FeatureGroupName': 'weather-feature-group-online-13-19-23-46',\n",
       "   'FeatureGroupArn': 'arn:aws:sagemaker:us-west-2:802439482869:feature-group/weather-feature-group-online-13-19-23-46',\n",
       "   'CreationTime': datetime.datetime(2021, 7, 13, 19, 23, 51, 48000, tzinfo=tzlocal()),\n",
       "   'FeatureGroupStatus': 'Created'},\n",
       "  {'FeatureGroupName': 'weather-feature-group-offline-online-13-19-23-46',\n",
       "   'FeatureGroupArn': 'arn:aws:sagemaker:us-west-2:802439482869:feature-group/weather-feature-group-offline-online-13-19-23-46',\n",
       "   'CreationTime': datetime.datetime(2021, 7, 13, 19, 23, 50, 26000, tzinfo=tzlocal()),\n",
       "   'FeatureGroupStatus': 'Created'},\n",
       "  {'FeatureGroupName': 'weather-feature-group-offline-13-19-23-46',\n",
       "   'FeatureGroupArn': 'arn:aws:sagemaker:us-west-2:802439482869:feature-group/weather-feature-group-offline-13-19-23-46',\n",
       "   'CreationTime': datetime.datetime(2021, 7, 13, 19, 23, 46, 695000, tzinfo=tzlocal()),\n",
       "   'FeatureGroupStatus': 'Created'},\n",
       "  {'FeatureGroupName': 'weather-data-feature-group-offline-online-25-18-24-38',\n",
       "   'FeatureGroupArn': 'arn:aws:sagemaker:us-west-2:802439482869:feature-group/weather-data-feature-group-offline-online-25-18-24-38',\n",
       "   'CreationTime': datetime.datetime(2021, 7, 25, 18, 24, 53, 982000, tzinfo=tzlocal()),\n",
       "   'FeatureGroupStatus': 'Created'},\n",
       "  {'FeatureGroupName': 'weather-data-feature-group-31-20-05-43',\n",
       "   'FeatureGroupArn': 'arn:aws:sagemaker:us-west-2:802439482869:feature-group/weather-data-feature-group-31-20-05-43',\n",
       "   'CreationTime': datetime.datetime(2021, 7, 31, 20, 5, 43, 296000, tzinfo=tzlocal()),\n",
       "   'FeatureGroupStatus': 'Created'},\n",
       "  {'FeatureGroupName': 'simple-feature-store',\n",
       "   'FeatureGroupArn': 'arn:aws:sagemaker:us-west-2:802439482869:feature-group/simple-feature-store',\n",
       "   'CreationTime': datetime.datetime(2021, 7, 11, 2, 6, 59, 652000, tzinfo=tzlocal()),\n",
       "   'FeatureGroupStatus': 'Created',\n",
       "   'OfflineStoreStatus': {'Status': 'Active'}},\n",
       "  {'FeatureGroupName': 'orders-feature-group-11-03-18-55',\n",
       "   'FeatureGroupArn': 'arn:aws:sagemaker:us-west-2:802439482869:feature-group/orders-feature-group-11-03-18-55',\n",
       "   'CreationTime': datetime.datetime(2021, 5, 11, 3, 19, 16, 709000, tzinfo=tzlocal()),\n",
       "   'FeatureGroupStatus': 'Created',\n",
       "   'OfflineStoreStatus': {'Status': 'Active'}},\n",
       "  {'FeatureGroupName': 'location-feature-group-online-26-14-53-06',\n",
       "   'FeatureGroupArn': 'arn:aws:sagemaker:us-west-2:802439482869:feature-group/location-feature-group-online-26-14-53-06',\n",
       "   'CreationTime': datetime.datetime(2021, 7, 26, 14, 53, 10, 412000, tzinfo=tzlocal()),\n",
       "   'FeatureGroupStatus': 'Created'},\n",
       "  {'FeatureGroupName': 'location-feature-group-online-07-15-47-35',\n",
       "   'FeatureGroupArn': 'arn:aws:sagemaker:us-west-2:802439482869:feature-group/location-feature-group-online-07-15-47-35',\n",
       "   'CreationTime': datetime.datetime(2021, 8, 7, 15, 48, 49, 168000, tzinfo=tzlocal()),\n",
       "   'FeatureGroupStatus': 'Creating'},\n",
       "  {'FeatureGroupName': 'location-feature-group-offline-online-26-14-53-06',\n",
       "   'FeatureGroupArn': 'arn:aws:sagemaker:us-west-2:802439482869:feature-group/location-feature-group-offline-online-26-14-53-06',\n",
       "   'CreationTime': datetime.datetime(2021, 7, 26, 14, 53, 8, 781000, tzinfo=tzlocal()),\n",
       "   'FeatureGroupStatus': 'Created',\n",
       "   'OfflineStoreStatus': {'Status': 'Active'}}],\n",
       " 'NextToken': 'cIws2QhTXUIa8bi8Va1c9dtAWQV9lVU90SWaEdBFXxhcKXCwI0Hvx/mb7uFSUERIePqY6ztMvlfuiui00vFkiM3VvOcCEpdZIeMivEN/yLNWgMsMWYBbENfJewcXF/FxJSBslbaH18NBjgJHUjvXTQps4l6QcaXLCHHwaWz1UxwnNmStflaIUXXD3nt897Q5gUg+d183r42jAhYfQhzltznXKwrybbxIgolV30STbwECBSuAQ9cV8Xc861275MCqCJXZo85P/k/dzSV5lr5tjm9Qlb8hDTlHms7Sy3Rg1BJjHhwouNZjUzP3CazfRKUOKIL7XiOwXIVr4/ifXuUAiX3uzLmnNHviOHZPRXdbYbaEZCNeP7rny8A83/bHMo59njF4wqqzHtrQuuAlrEPG0le3aRaT7pe12mugA4SM5wQmkTWDLRxAA8kN4gHk0xLlMcHoQFC9+Ou6lo47xcpi5QAg0+St0L3tmMDj66/uqN8JHGZT0dcrja4uiHsPSF5pEE+KpOQBzvwrLb8ogINIDzkNu3Fm5G2wnlUMU1BRqT8TiToFIKJJ4d1Tk67eZ4aJqDczUPvdxPGjuE7ADlDEcQZwlIBSWBeChF6fdp+egWzX',\n",
       " 'ResponseMetadata': {'RequestId': '573e2263-a7f0-4d3b-a9a1-0353a6037ec2',\n",
       "  'HTTPStatusCode': 200,\n",
       "  'HTTPHeaders': {'x-amzn-requestid': '573e2263-a7f0-4d3b-a9a1-0353a6037ec2',\n",
       "   'content-type': 'application/x-amz-json-1.1',\n",
       "   'content-length': '3222',\n",
       "   'date': 'Sat, 07 Aug 2021 15:48:54 GMT'},\n",
       "  'RetryAttempts': 0}}"
      ]
     },
     "execution_count": 14,
     "metadata": {},
     "output_type": "execute_result"
    }
   ],
   "source": [
    "sagemaker_client.list_feature_groups()"
   ]
  },
  {
   "cell_type": "markdown",
   "id": "a443fa26",
   "metadata": {},
   "source": [
    "### 3. Ingest features into feature group"
   ]
  },
  {
   "cell_type": "markdown",
   "id": "7e2bd8ae",
   "metadata": {},
   "source": [
    "### 3.1 Use ingest API"
   ]
  },
  {
   "cell_type": "code",
   "execution_count": 22,
   "id": "864fe3e7",
   "metadata": {},
   "outputs": [],
   "source": [
    "##Get the file name at index from the 'prefix' folder\n",
    "def get_file_in_bucket(prefix,index):\n",
    "    response = s3_client.list_objects(\n",
    "        Bucket=s3_bucket,\n",
    "        Prefix=prefix\n",
    "    )\n",
    "    ## At '0' index you will find the SUCCESS/FAILURE of file uploades to S3. First data file is at index 1\n",
    "    file_name = response['Contents'][index]['Key']\n",
    "    print(\"Returing file name : \" + file_name)\n",
    "    return file_name"
   ]
  },
  {
   "cell_type": "code",
   "execution_count": 23,
   "id": "7c12ab8b",
   "metadata": {},
   "outputs": [
    {
     "name": "stdout",
     "output_type": "stream",
     "text": [
      "Returing file name : prepared/train/part-00000-2554f113-947e-46bd-be31-9cd75cb4661c-c000.csv\n"
     ]
    }
   ],
   "source": [
    "#Read a sample csv from S3 \n",
    "###NOTE : Use the S3 bucket name in your account.\n",
    "s3_bucket='datascience-environment-notebookinstance--06dc7a0224df'\n",
    "s3_path = \"s3://{}/{}\".format(s3_bucket, get_file_in_bucket('prepared/train',1))\n",
    "weather_df = pd.read_csv(s3_path)"
   ]
  },
  {
   "cell_type": "code",
   "execution_count": 24,
   "id": "847e494a",
   "metadata": {
    "scrolled": true
   },
   "outputs": [
    {
     "data": {
      "text/html": [
       "<div>\n",
       "<style scoped>\n",
       "    .dataframe tbody tr th:only-of-type {\n",
       "        vertical-align: middle;\n",
       "    }\n",
       "\n",
       "    .dataframe tbody tr th {\n",
       "        vertical-align: top;\n",
       "    }\n",
       "\n",
       "    .dataframe thead th {\n",
       "        text-align: right;\n",
       "    }\n",
       "</style>\n",
       "<table border=\"1\" class=\"dataframe\">\n",
       "  <thead>\n",
       "    <tr style=\"text-align: right;\">\n",
       "      <th></th>\n",
       "      <th>1210.0</th>\n",
       "      <th>731.0</th>\n",
       "      <th>10.0</th>\n",
       "      <th>9.0</th>\n",
       "    </tr>\n",
       "  </thead>\n",
       "  <tbody>\n",
       "    <tr>\n",
       "      <th>0</th>\n",
       "      <td>1210.0</td>\n",
       "      <td>731.0</td>\n",
       "      <td>10.0</td>\n",
       "      <td>9.0</td>\n",
       "    </tr>\n",
       "    <tr>\n",
       "      <th>1</th>\n",
       "      <td>155.0</td>\n",
       "      <td>14.0</td>\n",
       "      <td>21.0</td>\n",
       "      <td>21.0</td>\n",
       "    </tr>\n",
       "    <tr>\n",
       "      <th>2</th>\n",
       "      <td>155.0</td>\n",
       "      <td>14.0</td>\n",
       "      <td>21.0</td>\n",
       "      <td>21.0</td>\n",
       "    </tr>\n",
       "    <tr>\n",
       "      <th>3</th>\n",
       "      <td>155.0</td>\n",
       "      <td>14.0</td>\n",
       "      <td>21.0</td>\n",
       "      <td>21.0</td>\n",
       "    </tr>\n",
       "    <tr>\n",
       "      <th>4</th>\n",
       "      <td>155.0</td>\n",
       "      <td>14.0</td>\n",
       "      <td>21.0</td>\n",
       "      <td>21.0</td>\n",
       "    </tr>\n",
       "    <tr>\n",
       "      <th>...</th>\n",
       "      <td>...</td>\n",
       "      <td>...</td>\n",
       "      <td>...</td>\n",
       "      <td>...</td>\n",
       "    </tr>\n",
       "    <tr>\n",
       "      <th>772298</th>\n",
       "      <td>97.0</td>\n",
       "      <td>3.0</td>\n",
       "      <td>0.0</td>\n",
       "      <td>0.0</td>\n",
       "    </tr>\n",
       "    <tr>\n",
       "      <th>772299</th>\n",
       "      <td>97.0</td>\n",
       "      <td>3.0</td>\n",
       "      <td>0.0</td>\n",
       "      <td>0.0</td>\n",
       "    </tr>\n",
       "    <tr>\n",
       "      <th>772300</th>\n",
       "      <td>97.0</td>\n",
       "      <td>3.0</td>\n",
       "      <td>0.0</td>\n",
       "      <td>0.0</td>\n",
       "    </tr>\n",
       "    <tr>\n",
       "      <th>772301</th>\n",
       "      <td>97.0</td>\n",
       "      <td>3.0</td>\n",
       "      <td>0.0</td>\n",
       "      <td>0.0</td>\n",
       "    </tr>\n",
       "    <tr>\n",
       "      <th>772302</th>\n",
       "      <td>974.0</td>\n",
       "      <td>661.0</td>\n",
       "      <td>2.0</td>\n",
       "      <td>2.0</td>\n",
       "    </tr>\n",
       "  </tbody>\n",
       "</table>\n",
       "<p>772303 rows × 4 columns</p>\n",
       "</div>"
      ],
      "text/plain": [
       "        1210.0  731.0  10.0   9.0\n",
       "0       1210.0  731.0  10.0   9.0\n",
       "1        155.0   14.0  21.0  21.0\n",
       "2        155.0   14.0  21.0  21.0\n",
       "3        155.0   14.0  21.0  21.0\n",
       "4        155.0   14.0  21.0  21.0\n",
       "...        ...    ...   ...   ...\n",
       "772298    97.0    3.0   0.0   0.0\n",
       "772299    97.0    3.0   0.0   0.0\n",
       "772300    97.0    3.0   0.0   0.0\n",
       "772301    97.0    3.0   0.0   0.0\n",
       "772302   974.0  661.0   2.0   2.0\n",
       "\n",
       "[772303 rows x 4 columns]"
      ]
     },
     "execution_count": 24,
     "metadata": {},
     "output_type": "execute_result"
    }
   ],
   "source": [
    "##Location, city, source_name, source_type : Features included in the location FG\n",
    "location_df=weather_df.iloc[:, 7:11]\n",
    "location_df"
   ]
  },
  {
   "cell_type": "code",
   "execution_count": 32,
   "id": "92437030",
   "metadata": {},
   "outputs": [],
   "source": [
    "location_df.columns = [\"location\", \"city\", \"sourcename\", \"sourcetype\"]"
   ]
  },
  {
   "cell_type": "code",
   "execution_count": 25,
   "id": "f7c6ab0f",
   "metadata": {},
   "outputs": [],
   "source": [
    "##Add EventTime column to the df\n",
    "location_df['EventTime']=time.time()"
   ]
  },
  {
   "cell_type": "code",
   "execution_count": 26,
   "id": "4761f9a8",
   "metadata": {},
   "outputs": [
    {
     "data": {
      "text/plain": [
       "{'FeatureGroupArn': 'arn:aws:sagemaker:us-west-2:802439482869:feature-group/location-feature-group-offline-07-15-47-35',\n",
       " 'FeatureGroupName': 'location-feature-group-offline-07-15-47-35',\n",
       " 'RecordIdentifierFeatureName': 'location',\n",
       " 'EventTimeFeatureName': 'EventTime',\n",
       " 'FeatureDefinitions': [{'FeatureName': 'location',\n",
       "   'FeatureType': 'Fractional'},\n",
       "  {'FeatureName': 'city', 'FeatureType': 'Fractional'},\n",
       "  {'FeatureName': 'ismobile', 'FeatureType': 'Integral'},\n",
       "  {'FeatureName': 'sourcename', 'FeatureType': 'Fractional'},\n",
       "  {'FeatureName': 'sourcetype', 'FeatureType': 'Fractional'},\n",
       "  {'FeatureName': 'EventTime', 'FeatureType': 'Fractional'}],\n",
       " 'CreationTime': datetime.datetime(2021, 8, 7, 15, 47, 43, 680000, tzinfo=tzlocal()),\n",
       " 'OfflineStoreConfig': {'S3StorageConfig': {'S3Uri': 's3://sagemaker-us-west-2-802439482869/sagemaker-featurestore-weather',\n",
       "   'ResolvedOutputS3Uri': 's3://sagemaker-us-west-2-802439482869/sagemaker-featurestore-weather/802439482869/sagemaker/us-west-2/offline-store/location-feature-group-offline-07-15-47-35-1628351263/data'},\n",
       "  'DisableGlueTableCreation': False,\n",
       "  'DataCatalogConfig': {'TableName': 'location-feature-group-offline-07-15-47-35-1628351263',\n",
       "   'Catalog': 'AwsDataCatalog',\n",
       "   'Database': 'sagemaker_featurestore'}},\n",
       " 'RoleArn': 'arn:aws:iam::802439482869:role/DataScienceEnvironment-SageMakerRole-1SVE0FKUVRVO5',\n",
       " 'FeatureGroupStatus': 'Created',\n",
       " 'ResponseMetadata': {'RequestId': '4199eed1-131a-48c2-b918-6c4683cbb3ea',\n",
       "  'HTTPStatusCode': 200,\n",
       "  'HTTPHeaders': {'x-amzn-requestid': '4199eed1-131a-48c2-b918-6c4683cbb3ea',\n",
       "   'content-type': 'application/x-amz-json-1.1',\n",
       "   'content-length': '1268',\n",
       "   'date': 'Sat, 07 Aug 2021 15:56:14 GMT'},\n",
       "  'RetryAttempts': 0}}"
      ]
     },
     "execution_count": 26,
     "metadata": {},
     "output_type": "execute_result"
    }
   ],
   "source": [
    "location_feature_group_offline.describe()\n"
   ]
  },
  {
   "cell_type": "code",
   "execution_count": 28,
   "id": "099cb97a",
   "metadata": {},
   "outputs": [],
   "source": [
    "##Check status of the feature group\n",
    "def check_feature_group_status(feature_group):\n",
    "    status = feature_group.describe().get(\"FeatureGroupStatus\")\n",
    "    while status == \"Creating\":\n",
    "        print(\"Waiting for Feature Group to be Created\")\n",
    "        time.sleep(5)\n",
    "        status = feature_group.describe().get(\"FeatureGroupStatus\")\n",
    "    print(f\"FeatureGroup {feature_group.name} successfully created.\")"
   ]
  },
  {
   "cell_type": "code",
   "execution_count": 29,
   "id": "2768b870",
   "metadata": {},
   "outputs": [
    {
     "name": "stdout",
     "output_type": "stream",
     "text": [
      "FeatureGroup location-feature-group-offline-07-15-47-35 successfully created.\n"
     ]
    }
   ],
   "source": [
    "##Wait till the feature group is ready\n",
    "check_feature_group_status(location_feature_group_offline)"
   ]
  },
  {
   "cell_type": "code",
   "execution_count": 33,
   "id": "efc45b19",
   "metadata": {},
   "outputs": [
    {
     "data": {
      "text/plain": [
       "IngestionManagerPandas(feature_group_name='location-feature-group-offline-07-15-47-35', sagemaker_fs_runtime_client_config=<botocore.config.Config object at 0x7efc0fc6b198>, max_workers=3, max_processes=1, _async_result=<multiprocess.pool.MapResult object at 0x7efc0c5c7d68>, _processing_pool=<pool ProcessPool(ncpus=1)>, _failed_indices=[])"
      ]
     },
     "execution_count": 33,
     "metadata": {},
     "output_type": "execute_result"
    }
   ],
   "source": [
    "#Ingest features into the feature group\n",
    "location_feature_group_offline.ingest(\n",
    "    data_frame=location_df, max_workers=3, wait=True\n",
    ")"
   ]
  },
  {
   "cell_type": "markdown",
   "id": "fefdcd2d",
   "metadata": {},
   "source": [
    "### 3.2 Use PutRecord API"
   ]
  },
  {
   "cell_type": "code",
   "execution_count": 34,
   "id": "c32bdff7",
   "metadata": {},
   "outputs": [
    {
     "data": {
      "text/plain": [
       "{'ResponseMetadata': {'RequestId': 'ae90f64b-8ee2-4229-a19e-56615cd8e970',\n",
       "  'HTTPStatusCode': 200,\n",
       "  'HTTPHeaders': {'x-amzn-requestid': 'ae90f64b-8ee2-4229-a19e-56615cd8e970',\n",
       "   'content-type': 'application/json',\n",
       "   'content-length': '0',\n",
       "   'date': 'Sat, 07 Aug 2021 17:05:37 GMT'},\n",
       "  'RetryAttempts': 0}}"
      ]
     },
     "execution_count": 34,
     "metadata": {},
     "output_type": "execute_result"
    }
   ],
   "source": [
    "##Create a record to ingest into the feature group\n",
    "##This ingests features into the online store.\n",
    "record = []\n",
    "\n",
    "event_time_feature = {'FeatureName': 'EventTime','ValueAsString': str(int(round(time.time())))}\n",
    "location_feature =   {'FeatureName': 'location','ValueAsString': str('250')}\n",
    "ismobile_feature =   {'FeatureName': 'ismobile','ValueAsString': str('1')}\n",
    "city_feature =      {'FeatureName': 'city','ValueAsString': str('12')}\n",
    "sourcename_feature =      {'FeatureName': 'sourcename','ValueAsString': str('2.0')}\n",
    "sourcetype_feature =      {'FeatureName': 'sourcetype','ValueAsString': str('2.0')}\n",
    "\n",
    "record.append(event_time_feature)\n",
    "record.append(location_feature)\n",
    "record.append(ismobile_feature)\n",
    "record.append(city_feature)\n",
    "record.append(sourcename_feature)\n",
    "record.append(sourcetype_feature)\n",
    "\n",
    "response = sagemaker_fs_runtime_client.put_record(FeatureGroupName=location_feature_group_name_offline_online, \n",
    "                                                  Record=record)\n",
    "\n",
    "response"
   ]
  },
  {
   "cell_type": "markdown",
   "id": "f2424bfd",
   "metadata": {},
   "source": [
    "### 4. Retrieving featues from feature group"
   ]
  },
  {
   "cell_type": "code",
   "execution_count": 35,
   "id": "5fe45994",
   "metadata": {},
   "outputs": [
    {
     "data": {
      "text/plain": [
       "{'ResponseMetadata': {'RequestId': '7361fb32-2a76-492e-badc-1613992cfce5',\n",
       "  'HTTPStatusCode': 200,\n",
       "  'HTTPHeaders': {'x-amzn-requestid': '7361fb32-2a76-492e-badc-1613992cfce5',\n",
       "   'content-type': 'application/json',\n",
       "   'content-length': '311',\n",
       "   'date': 'Sat, 07 Aug 2021 17:05:42 GMT'},\n",
       "  'RetryAttempts': 0},\n",
       " 'Record': [{'FeatureName': 'location', 'ValueAsString': '250'},\n",
       "  {'FeatureName': 'city', 'ValueAsString': '12'},\n",
       "  {'FeatureName': 'ismobile', 'ValueAsString': '1'},\n",
       "  {'FeatureName': 'sourcename', 'ValueAsString': '2.0'},\n",
       "  {'FeatureName': 'sourcetype', 'ValueAsString': '2.0'},\n",
       "  {'FeatureName': 'EventTime', 'ValueAsString': '1628355938'}]}"
      ]
     },
     "execution_count": 35,
     "metadata": {},
     "output_type": "execute_result"
    }
   ],
   "source": [
    "#Use get_record from the online store\n",
    "record_identifier_value = str('250')\n",
    "response = sagemaker_fs_runtime_client.get_record(FeatureGroupName=location_feature_group_name_offline_online, \n",
    "                                       RecordIdentifierValueAsString=record_identifier_value)\n",
    "response"
   ]
  },
  {
   "cell_type": "code",
   "execution_count": 36,
   "id": "e426be4a",
   "metadata": {},
   "outputs": [
    {
     "data": {
      "text/plain": [
       "{'ResponseMetadata': {'RequestId': '7648fabf-7b68-4a9b-bc5c-327f01a7c9e6',\n",
       "  'HTTPStatusCode': 200,\n",
       "  'HTTPHeaders': {'x-amzn-requestid': '7648fabf-7b68-4a9b-bc5c-327f01a7c9e6',\n",
       "   'content-type': 'application/json',\n",
       "   'content-length': '474',\n",
       "   'date': 'Sat, 07 Aug 2021 17:05:42 GMT'},\n",
       "  'RetryAttempts': 0},\n",
       " 'Records': [{'FeatureGroupName': 'location-feature-group-offline-online-07-15-47-35',\n",
       "   'RecordIdentifierValueAsString': '250',\n",
       "   'Record': [{'FeatureName': 'location', 'ValueAsString': '250'},\n",
       "    {'FeatureName': 'city', 'ValueAsString': '12'},\n",
       "    {'FeatureName': 'ismobile', 'ValueAsString': '1'},\n",
       "    {'FeatureName': 'sourcename', 'ValueAsString': '2.0'},\n",
       "    {'FeatureName': 'sourcetype', 'ValueAsString': '2.0'},\n",
       "    {'FeatureName': 'EventTime', 'ValueAsString': '1628355938'}]}],\n",
       " 'Errors': [],\n",
       " 'UnprocessedIdentifiers': []}"
      ]
     },
     "execution_count": 36,
     "metadata": {},
     "output_type": "execute_result"
    }
   ],
   "source": [
    "#Use batch-get_record\n",
    "record_identifier_values = [\"200\", \"250\", \"300\"]\n",
    "response=sagemaker_fs_runtime_client.batch_get_record(\n",
    "    Identifiers=[\n",
    "        {\"FeatureGroupName\": location_feature_group_name_offline_online, \"RecordIdentifiersValueAsString\": record_identifier_values}\n",
    "    ]\n",
    ")\n",
    "response"
   ]
  },
  {
   "cell_type": "markdown",
   "id": "db05cf4c",
   "metadata": {},
   "source": [
    "### 4. Delete the feature groups\n",
    "\n",
    "Uncomment the below to delete the feature groups created"
   ]
  },
  {
   "cell_type": "code",
   "execution_count": 37,
   "id": "331d1ecb",
   "metadata": {},
   "outputs": [
    {
     "data": {
      "text/plain": [
       "{'ResponseMetadata': {'RequestId': '79e1cc2f-96f4-4b91-92f3-a4807e002e86',\n",
       "  'HTTPStatusCode': 200,\n",
       "  'HTTPHeaders': {'x-amzn-requestid': '79e1cc2f-96f4-4b91-92f3-a4807e002e86',\n",
       "   'content-type': 'application/x-amz-json-1.1',\n",
       "   'content-length': '0',\n",
       "   'date': 'Sat, 07 Aug 2021 17:05:47 GMT'},\n",
       "  'RetryAttempts': 0}}"
      ]
     },
     "execution_count": 37,
     "metadata": {},
     "output_type": "execute_result"
    }
   ],
   "source": [
    "sagemaker_client.delete_feature_group(FeatureGroupName=location_feature_group_name_offline)"
   ]
  },
  {
   "cell_type": "code",
   "execution_count": 38,
   "id": "285e6902",
   "metadata": {},
   "outputs": [
    {
     "data": {
      "text/plain": [
       "{'ResponseMetadata': {'RequestId': '15968ca3-636d-4c91-859e-b1fed47dcfa2',\n",
       "  'HTTPStatusCode': 200,\n",
       "  'HTTPHeaders': {'x-amzn-requestid': '15968ca3-636d-4c91-859e-b1fed47dcfa2',\n",
       "   'content-type': 'application/x-amz-json-1.1',\n",
       "   'content-length': '0',\n",
       "   'date': 'Sat, 07 Aug 2021 17:05:48 GMT'},\n",
       "  'RetryAttempts': 1}}"
      ]
     },
     "execution_count": 38,
     "metadata": {},
     "output_type": "execute_result"
    }
   ],
   "source": [
    "sagemaker_client.delete_feature_group(FeatureGroupName=location_feature_group_name_offline_online)"
   ]
  },
  {
   "cell_type": "code",
   "execution_count": 39,
   "id": "528e3f59",
   "metadata": {},
   "outputs": [
    {
     "data": {
      "text/plain": [
       "{'ResponseMetadata': {'RequestId': '67a680b6-4d24-4e96-bb7e-9fb8d294dd79',\n",
       "  'HTTPStatusCode': 200,\n",
       "  'HTTPHeaders': {'x-amzn-requestid': '67a680b6-4d24-4e96-bb7e-9fb8d294dd79',\n",
       "   'content-type': 'application/x-amz-json-1.1',\n",
       "   'content-length': '0',\n",
       "   'date': 'Sat, 07 Aug 2021 17:05:49 GMT'},\n",
       "  'RetryAttempts': 1}}"
      ]
     },
     "execution_count": 39,
     "metadata": {},
     "output_type": "execute_result"
    }
   ],
   "source": [
    "sagemaker_client.delete_feature_group(FeatureGroupName=location_feature_group_name_online)"
   ]
  },
  {
   "cell_type": "code",
   "execution_count": null,
   "id": "776352c1",
   "metadata": {},
   "outputs": [],
   "source": []
  }
 ],
 "metadata": {
  "kernelspec": {
   "display_name": "conda_python3",
   "language": "python",
   "name": "conda_python3"
  },
  "language_info": {
   "codemirror_mode": {
    "name": "ipython",
    "version": 3
   },
   "file_extension": ".py",
   "mimetype": "text/x-python",
   "name": "python",
   "nbconvert_exporter": "python",
   "pygments_lexer": "ipython3",
   "version": "3.6.13"
  }
 },
 "nbformat": 4,
 "nbformat_minor": 5
}
