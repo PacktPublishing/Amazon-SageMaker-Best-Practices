{
 "cells": [
  {
   "cell_type": "code",
   "execution_count": 1,
   "id": "personalized-colony",
   "metadata": {},
   "outputs": [
    {
     "name": "stdout",
     "output_type": "stream",
     "text": [
      "Starting Spark application\n"
     ]
    },
    {
     "data": {
      "text/html": [
       "<table>\n",
       "<tr><th>ID</th><th>YARN Application ID</th><th>Kind</th><th>State</th><th>Spark UI</th><th>Driver log</th><th>User</th><th>Current session?</th></tr><tr><td>0</td><td>application_1617492240956_0001</td><td>pyspark</td><td>idle</td><td><a target=\"_blank\" href=\"http://ip-172-34-255-20.ec2.internal:20888/proxy/application_1617492240956_0001/\">Link</a></td><td><a target=\"_blank\" href=\"http://ip-172-34-127-196.ec2.internal:8042/node/containerlogs/container_1617492240956_0001_01_000001/livy\">Link</a></td><td>None</td><td>✔</td></tr></table>"
      ],
      "text/plain": [
       "<IPython.core.display.HTML object>"
      ]
     },
     "metadata": {},
     "output_type": "display_data"
    },
    {
     "data": {
      "application/vnd.jupyter.widget-view+json": {
       "model_id": "7743171fca15498fbc8d9ea143bbd7da",
       "version_major": 2,
       "version_minor": 0
      },
      "text/plain": [
       "FloatProgress(value=0.0, bar_style='info', description='Progress:', layout=Layout(height='25px', width='50%'),…"
      ]
     },
     "metadata": {},
     "output_type": "display_data"
    },
    {
     "name": "stdout",
     "output_type": "stream",
     "text": [
      "SparkSession available as 'spark'.\n"
     ]
    },
    {
     "data": {
      "application/vnd.jupyter.widget-view+json": {
       "model_id": "6f6cae7a758f4df7b15fbb1ed7035ce0",
       "version_major": 2,
       "version_minor": 0
      },
      "text/plain": [
       "FloatProgress(value=0.0, bar_style='info', description='Progress:', layout=Layout(height='25px', width='50%'),…"
      ]
     },
     "metadata": {},
     "output_type": "display_data"
    }
   ],
   "source": [
    "import pyspark\n",
    "from pyspark import SparkContext\n",
    "from pyspark.sql import SparkSession\n",
    "from pyspark.sql.types import StringType,BooleanType,DateType,IntegerType\n",
    "from pyspark.ml import Pipeline\n",
    "from pyspark.ml.feature import (\n",
    "    OneHotEncoder,\n",
    "    StringIndexer,\n",
    "    VectorAssembler,\n",
    "    VectorIndexer,\n",
    "    MinMaxScaler\n",
    ")"
   ]
  },
  {
   "cell_type": "code",
   "execution_count": 2,
   "id": "frank-smart",
   "metadata": {},
   "outputs": [
    {
     "data": {
      "application/vnd.jupyter.widget-view+json": {
       "model_id": "ecd56771f5e646c7b498a3d2ee85c197",
       "version_major": 2,
       "version_minor": 0
      },
      "text/plain": [
       "FloatProgress(value=0.0, bar_style='info', description='Progress:', layout=Layout(height='25px', width='50%'),…"
      ]
     },
     "metadata": {},
     "output_type": "display_data"
    }
   ],
   "source": [
    "spark = SparkSession \\\n",
    "    .builder \\\n",
    "    .appName(\"rdtest\") \\\n",
    "    .enableHiveSupport() \\\n",
    "    .getOrCreate()"
   ]
  },
  {
   "cell_type": "code",
   "execution_count": 3,
   "id": "bronze-apparel",
   "metadata": {},
   "outputs": [
    {
     "data": {
      "application/vnd.jupyter.widget-view+json": {
       "model_id": "f54d5c075bfe473abb97f29cb4975517",
       "version_major": 2,
       "version_minor": 0
      },
      "text/plain": [
       "FloatProgress(value=0.0, bar_style='info', description='Progress:', layout=Layout(height='25px', width='50%'),…"
      ]
     },
     "metadata": {},
     "output_type": "display_data"
    },
    {
     "name": "stdout",
     "output_type": "stream",
     "text": [
      "[Row(date=Row(utc='2018-01-01T22:44:22.000Z', local='2018-01-02T09:44:22+11:00'), parameter='pm25', location='Smithton', value=0.0, unit='µg/m³', city='Tasmania Region', attribution=[Row(name='Environmental Protection Authority - Tasmania', url='http://epa.tas.gov.au')], averagingperiod=Row(value=0.25, unit='hours'), coordinates=Row(latitude=-40.8505, longitude=145.133), country='AU', sourcename='Australia - Tasmania', sourcetype='government', mobile=False, aggdate='2018-01-02'), Row(date=Row(utc='2018-01-01T22:44:22.000Z', local='2018-01-02T09:44:22+11:00'), parameter='pm10', location='Smithton', value=0.0, unit='µg/m³', city='Tasmania Region', attribution=[Row(name='Environmental Protection Authority - Tasmania', url='http://epa.tas.gov.au')], averagingperiod=Row(value=0.25, unit='hours'), coordinates=Row(latitude=-40.8505, longitude=145.133), country='AU', sourcename='Australia - Tasmania', sourcetype='government', mobile=False, aggdate='2018-01-02'), Row(date=Row(utc='2018-01-01T22:44:19.000Z', local='2018-01-02T09:44:19+11:00'), parameter='pm25', location='Wynyard', value=1.0, unit='µg/m³', city='Tasmania Region', attribution=[Row(name='Environmental Protection Authority - Tasmania', url='http://epa.tas.gov.au')], averagingperiod=Row(value=0.25, unit='hours'), coordinates=Row(latitude=-40.9918, longitude=145.719), country='AU', sourcename='Australia - Tasmania', sourcetype='government', mobile=False, aggdate='2018-01-02')]"
     ]
    }
   ],
   "source": [
    "df = spark.sql(\"SELECT * from rdtest2.rdtest2 where aggdate like '2018-01-%'\")\n",
    "df.head(3)"
   ]
  },
  {
   "cell_type": "code",
   "execution_count": 4,
   "id": "willing-tanzania",
   "metadata": {},
   "outputs": [
    {
     "data": {
      "application/vnd.jupyter.widget-view+json": {
       "model_id": "504819ccd20249e0b086447a023d17db",
       "version_major": 2,
       "version_minor": 0
      },
      "text/plain": [
       "FloatProgress(value=0.0, bar_style='info', description='Progress:', layout=Layout(height='25px', width='50%'),…"
      ]
     },
     "metadata": {},
     "output_type": "display_data"
    },
    {
     "name": "stdout",
     "output_type": "stream",
     "text": [
      "root\n",
      " |-- date: struct (nullable = true)\n",
      " |    |-- utc: string (nullable = true)\n",
      " |    |-- local: string (nullable = true)\n",
      " |-- parameter: string (nullable = true)\n",
      " |-- location: string (nullable = true)\n",
      " |-- value: double (nullable = true)\n",
      " |-- unit: string (nullable = true)\n",
      " |-- city: string (nullable = true)\n",
      " |-- attribution: array (nullable = true)\n",
      " |    |-- element: struct (containsNull = true)\n",
      " |    |    |-- name: string (nullable = true)\n",
      " |    |    |-- url: string (nullable = true)\n",
      " |-- averagingperiod: struct (nullable = true)\n",
      " |    |-- value: double (nullable = true)\n",
      " |    |-- unit: string (nullable = true)\n",
      " |-- coordinates: struct (nullable = true)\n",
      " |    |-- latitude: double (nullable = true)\n",
      " |    |-- longitude: double (nullable = true)\n",
      " |-- country: string (nullable = true)\n",
      " |-- sourcename: string (nullable = true)\n",
      " |-- sourcetype: string (nullable = true)\n",
      " |-- mobile: boolean (nullable = true)\n",
      " |-- aggdate: string (nullable = true)"
     ]
    }
   ],
   "source": [
    "df.printSchema()"
   ]
  },
  {
   "cell_type": "markdown",
   "id": "usual-movement",
   "metadata": {},
   "source": [
    "## Transformations\n",
    "\n",
    "* Drop date\n",
    "* Encode parameter\n",
    "* Encode location\n",
    "* Scale value\n",
    "* Drop unit\n",
    "* Encode city\n",
    "* Drop attribution\n",
    "* Drop averaging period\n",
    "* Drop coordinates\n",
    "* Encode country\n",
    "* Encode source name\n",
    "* Encode source type\n",
    "* Convert mobile to integer\n",
    "* Featurize aggdate\n",
    "* Add label for good/bad air quality"
   ]
  },
  {
   "cell_type": "code",
   "execution_count": 5,
   "id": "static-sleeve",
   "metadata": {},
   "outputs": [
    {
     "data": {
      "application/vnd.jupyter.widget-view+json": {
       "model_id": "bbde4bd543e947e79c0d0449a4634261",
       "version_major": 2,
       "version_minor": 0
      },
      "text/plain": [
       "FloatProgress(value=0.0, bar_style='info', description='Progress:', layout=Layout(height='25px', width='50%'),…"
      ]
     },
     "metadata": {},
     "output_type": "display_data"
    },
    {
     "name": "stdout",
     "output_type": "stream",
     "text": [
      "[Row(parameter='pm25', location='Smithton', value=3.0, city='Tasmania Region', country='AU', sourcename='Australia - Tasmania', sourcetype='government', mobile=False, aggdate='2018-01-06'), Row(parameter='pm10', location='Smithton', value=3.0, city='Tasmania Region', country='AU', sourcename='Australia - Tasmania', sourcetype='government', mobile=False, aggdate='2018-01-06'), Row(parameter='pm25', location='Wynyard', value=2.0, city='Tasmania Region', country='AU', sourcename='Australia - Tasmania', sourcetype='government', mobile=False, aggdate='2018-01-06')]"
     ]
    }
   ],
   "source": [
    "# Drop columns\n",
    "df = df.drop('date').drop('unit').drop('attribution').drop('averagingperiod').drop('coordinates')\n",
    "df.head(3)"
   ]
  },
  {
   "cell_type": "code",
   "execution_count": 7,
   "id": "exterior-persian",
   "metadata": {},
   "outputs": [
    {
     "data": {
      "application/vnd.jupyter.widget-view+json": {
       "model_id": "0f13ffb557a0420f9d151003e5d0b62b",
       "version_major": 2,
       "version_minor": 0
      },
      "text/plain": [
       "FloatProgress(value=0.0, bar_style='info', description='Progress:', layout=Layout(height='25px', width='50%'),…"
      ]
     },
     "metadata": {},
     "output_type": "display_data"
    },
    {
     "name": "stdout",
     "output_type": "stream",
     "text": [
      "[Row(parameter='pm25', location='Smithton', value=2.0, city='Tasmania Region', country='AU', sourcename='Australia - Tasmania', sourcetype='government', aggdate='2018-01-09', ismobile=0), Row(parameter='pm10', location='Smithton', value=9.0, city='Tasmania Region', country='AU', sourcename='Australia - Tasmania', sourcetype='government', aggdate='2018-01-09', ismobile=0), Row(parameter='pm25', location='Wynyard', value=0.0, city='Tasmania Region', country='AU', sourcename='Australia - Tasmania', sourcetype='government', aggdate='2018-01-09', ismobile=0)]"
     ]
    }
   ],
   "source": [
    "# Mobile field to int\n",
    "from pyspark.sql.functions import col\n",
    "df = df.withColumn(\"ismobile\",col(\"mobile\").cast(IntegerType())).drop('mobile')\n",
    "df.head(3)"
   ]
  },
  {
   "cell_type": "code",
   "execution_count": 10,
   "id": "mathematical-twins",
   "metadata": {},
   "outputs": [
    {
     "data": {
      "application/vnd.jupyter.widget-view+json": {
       "model_id": "e0cc7c99bc4b4f798777a7e7caff36f4",
       "version_major": 2,
       "version_minor": 0
      },
      "text/plain": [
       "FloatProgress(value=0.0, bar_style='info', description='Progress:', layout=Layout(height='25px', width='50%'),…"
      ]
     },
     "metadata": {},
     "output_type": "display_data"
    },
    {
     "name": "stdout",
     "output_type": "stream",
     "text": [
      "[Row(parameter='pm25', location='Smithton', value=1.0, city='Tasmania Region', country='AU', sourcename='Australia - Tasmania', sourcetype='government', aggdate='2018-01-07', ismobile=0, value_vec=DenseVector([1.0]), value_scaled=DenseVector([0.0001])), Row(parameter='pm10', location='Smithton', value=1.0, city='Tasmania Region', country='AU', sourcename='Australia - Tasmania', sourcetype='government', aggdate='2018-01-07', ismobile=0, value_vec=DenseVector([1.0]), value_scaled=DenseVector([0.0001])), Row(parameter='pm25', location='Wynyard', value=3.0, city='Tasmania Region', country='AU', sourcename='Australia - Tasmania', sourcetype='government', aggdate='2018-01-07', ismobile=0, value_vec=DenseVector([3.0]), value_scaled=DenseVector([0.0003]))]"
     ]
    }
   ],
   "source": [
    "# scale value\n",
    "from pyspark.ml.feature import StandardScaler\n",
    "\n",
    "value_assembler = VectorAssembler(inputCols=[\"value\"], \n",
    "                            outputCol=\"value_vec\")\n",
    "value_scaler = StandardScaler(inputCol=\"value_vec\", outputCol=\"value_scaled\")\n",
    "value_pipeline = Pipeline(stages=[value_assembler, value_scaler])\n",
    "value_model = value_pipeline.fit(df)\n",
    "xform_df = value_model.transform(df)\n",
    "xform_df.head(3)\n"
   ]
  },
  {
   "cell_type": "code",
   "execution_count": 11,
   "id": "victorian-advisory",
   "metadata": {},
   "outputs": [
    {
     "data": {
      "application/vnd.jupyter.widget-view+json": {
       "model_id": "ad891342809148d3a3581dbcb72add3e",
       "version_major": 2,
       "version_minor": 0
      },
      "text/plain": [
       "FloatProgress(value=0.0, bar_style='info', description='Progress:', layout=Layout(height='25px', width='50%'),…"
      ]
     },
     "metadata": {},
     "output_type": "display_data"
    },
    {
     "name": "stdout",
     "output_type": "stream",
     "text": [
      "[Row(parameter='pm10', location='AD0942A', value=26.0, city='Escaldes-Engordany', country='AD', sourcename='EEA Andorra', sourcetype='government', aggdate='2018-01-25', ismobile=0, value_vec=DenseVector([26.0]), value_scaled=DenseVector([0.0024]), aggdt=datetime.date(2018, 1, 25)), Row(parameter='co', location='AD0942A', value=500.0, city='Escaldes-Engordany', country='AD', sourcename='EEA Andorra', sourcetype='government', aggdate='2018-01-25', ismobile=0, value_vec=DenseVector([500.0]), value_scaled=DenseVector([0.0453]), aggdt=datetime.date(2018, 1, 25)), Row(parameter='so2', location='AD0942A', value=1.0, city='Escaldes-Engordany', country='AD', sourcename='EEA Andorra', sourcetype='government', aggdate='2018-01-25', ismobile=0, value_vec=DenseVector([1.0]), value_scaled=DenseVector([0.0001]), aggdt=datetime.date(2018, 1, 25))]"
     ]
    }
   ],
   "source": [
    "# featurize date\n",
    "from pyspark.sql.functions import unix_timestamp, to_date\n",
    "xform_df = xform_df.withColumn('aggdt', \n",
    "                   to_date(unix_timestamp(col('aggdate'), 'yyyy-MM-dd').cast(\"timestamp\")))\n",
    "xform_df.head(3)"
   ]
  },
  {
   "cell_type": "code",
   "execution_count": 14,
   "id": "marked-arthur",
   "metadata": {},
   "outputs": [
    {
     "data": {
      "application/vnd.jupyter.widget-view+json": {
       "model_id": "1b5a9f4262eb41f1b226e154095e16b3",
       "version_major": 2,
       "version_minor": 0
      },
      "text/plain": [
       "FloatProgress(value=0.0, bar_style='info', description='Progress:', layout=Layout(height='25px', width='50%'),…"
      ]
     },
     "metadata": {},
     "output_type": "display_data"
    },
    {
     "name": "stdout",
     "output_type": "stream",
     "text": [
      "[Row(parameter='pm25', location='Smithton', value=1.0, city='Tasmania Region', country='AU', sourcename='Australia - Tasmania', sourcetype='government', aggdate='2018-01-07', ismobile=0, value_vec=DenseVector([1.0]), value_scaled=DenseVector([0.0001]), aggdt=datetime.date(2018, 1, 7), year=2018, month=1, quarter=1, day='7'), Row(parameter='pm10', location='Smithton', value=1.0, city='Tasmania Region', country='AU', sourcename='Australia - Tasmania', sourcetype='government', aggdate='2018-01-07', ismobile=0, value_vec=DenseVector([1.0]), value_scaled=DenseVector([0.0001]), aggdt=datetime.date(2018, 1, 7), year=2018, month=1, quarter=1, day='7'), Row(parameter='pm25', location='Wynyard', value=3.0, city='Tasmania Region', country='AU', sourcename='Australia - Tasmania', sourcetype='government', aggdate='2018-01-07', ismobile=0, value_vec=DenseVector([3.0]), value_scaled=DenseVector([0.0003]), aggdt=datetime.date(2018, 1, 7), year=2018, month=1, quarter=1, day='7')]"
     ]
    }
   ],
   "source": [
    "from pyspark.sql.functions import year, month, quarter, date_format\n",
    "xform_df = xform_df.withColumn('year',year(xform_df.aggdt)).withColumn('month',month(xform_df.aggdt)).withColumn('quarter',quarter(xform_df.aggdt))\n",
    "xform_df = xform_df.withColumn(\"day\", date_format(col(\"aggdt\"), \"d\"))\n",
    "xform_df.head(3)"
   ]
  },
  {
   "cell_type": "code",
   "execution_count": 15,
   "id": "sensitive-eight",
   "metadata": {},
   "outputs": [
    {
     "data": {
      "application/vnd.jupyter.widget-view+json": {
       "model_id": "f43fb346e7e54860bdc94b7ee2b3ec02",
       "version_major": 2,
       "version_minor": 0
      },
      "text/plain": [
       "FloatProgress(value=0.0, bar_style='info', description='Progress:', layout=Layout(height='25px', width='50%'),…"
      ]
     },
     "metadata": {},
     "output_type": "display_data"
    },
    {
     "name": "stdout",
     "output_type": "stream",
     "text": [
      "[Row(parameter='pm10', location='AD0942A', value=26.0, city='Escaldes-Engordany', country='AD', sourcename='EEA Andorra', sourcetype='government', aggdate='2018-01-25', ismobile=0, value_vec=DenseVector([26.0]), value_scaled=DenseVector([0.0024]), aggdt=datetime.date(2018, 1, 25), year=2018, month=1, quarter=1, day='25', isBadAir=0), Row(parameter='co', location='AD0942A', value=500.0, city='Escaldes-Engordany', country='AD', sourcename='EEA Andorra', sourcetype='government', aggdate='2018-01-25', ismobile=0, value_vec=DenseVector([500.0]), value_scaled=DenseVector([0.0453]), aggdt=datetime.date(2018, 1, 25), year=2018, month=1, quarter=1, day='25', isBadAir=0), Row(parameter='so2', location='AD0942A', value=1.0, city='Escaldes-Engordany', country='AD', sourcename='EEA Andorra', sourcetype='government', aggdate='2018-01-25', ismobile=0, value_vec=DenseVector([1.0]), value_scaled=DenseVector([0.0001]), aggdt=datetime.date(2018, 1, 25), year=2018, month=1, quarter=1, day='25', isBadAir=0)]"
     ]
    }
   ],
   "source": [
    "# Automatically assign good/bad labels\n",
    "\n",
    "from pyspark.sql.functions import udf\n",
    "\n",
    "def isBadAir(v, p):\n",
    "    if p == 'pm10':\n",
    "        if v > 50:\n",
    "            return 1\n",
    "        else:\n",
    "            return 0\n",
    "    elif p == 'pm25':\n",
    "        if v > 25:\n",
    "            return 1\n",
    "        else:\n",
    "            return 0\n",
    "    elif p == 'so2':\n",
    "        if v > 20:\n",
    "            return 1\n",
    "        else:\n",
    "            return 0\n",
    "    elif p == 'no2':\n",
    "        if v > 200:\n",
    "            return 1\n",
    "        else:\n",
    "            return 0\n",
    "    elif p == 'o3':\n",
    "        if v > 100:\n",
    "            return 1\n",
    "        else:\n",
    "            return 0\n",
    "    else:\n",
    "        return 0\n",
    "\n",
    "isBadAirUdf = udf(isBadAir, IntegerType())\n",
    "\n",
    "xform_df = xform_df.withColumn('isBadAir', isBadAirUdf('value', 'parameter'))\n",
    "xform_df.head(3)"
   ]
  },
  {
   "cell_type": "markdown",
   "id": "incident-check",
   "metadata": {},
   "source": [
    "## Categorical encodings\n",
    "\n",
    "For low-cardinality features, we will use one-hot encoding.  For others we will use index (ordinal) encoding, in the expectation that we will calculate embeddings later on."
   ]
  },
  {
   "cell_type": "code",
   "execution_count": 17,
   "id": "related-signal",
   "metadata": {},
   "outputs": [
    {
     "data": {
      "application/vnd.jupyter.widget-view+json": {
       "model_id": "28169dd0c6614d44a1d67e3b2cdef458",
       "version_major": 2,
       "version_minor": 0
      },
      "text/plain": [
       "FloatProgress(value=0.0, bar_style='info', description='Progress:', layout=Layout(height='25px', width='50%'),…"
      ]
     },
     "metadata": {},
     "output_type": "display_data"
    }
   ],
   "source": [
    "from pyspark.ml.feature import OneHotEncoderEstimator\n",
    "\n",
    "parameter_indexer = StringIndexer(inputCol=\"parameter\", outputCol=\"indexed_parameter\")\n",
    "location_indexer = StringIndexer(inputCol=\"location\", outputCol=\"indexed_location\")\n",
    "city_indexer = StringIndexer(inputCol=\"city\", outputCol=\"indexed_city\")\n",
    "country_indexer = StringIndexer(inputCol=\"country\", outputCol=\"indexed_country\")\n",
    "sourcename_indexer = StringIndexer(inputCol=\"sourcename\", outputCol=\"indexed_sourcename\")\n",
    "sourcetype_indexer = StringIndexer(inputCol=\"sourcetype\", outputCol=\"indexed_sourcetype\")"
   ]
  },
  {
   "cell_type": "code",
   "execution_count": 29,
   "id": "employed-sending",
   "metadata": {},
   "outputs": [
    {
     "data": {
      "application/vnd.jupyter.widget-view+json": {
       "model_id": "044811e81e9d487b956419535b84fca1",
       "version_major": 2,
       "version_minor": 0
      },
      "text/plain": [
       "FloatProgress(value=0.0, bar_style='info', description='Progress:', layout=Layout(height='25px', width='50%'),…"
      ]
     },
     "metadata": {},
     "output_type": "display_data"
    }
   ],
   "source": [
    "enc_est = OneHotEncoderEstimator(inputCols=[\"indexed_parameter\"],\n",
    "                                 outputCols=[\"vec_parameter\"])"
   ]
  },
  {
   "cell_type": "code",
   "execution_count": 30,
   "id": "original-berkeley",
   "metadata": {},
   "outputs": [
    {
     "data": {
      "application/vnd.jupyter.widget-view+json": {
       "model_id": "ae85c900551d48338aac85d9115ee5cd",
       "version_major": 2,
       "version_minor": 0
      },
      "text/plain": [
       "FloatProgress(value=0.0, bar_style='info', description='Progress:', layout=Layout(height='25px', width='50%'),…"
      ]
     },
     "metadata": {},
     "output_type": "display_data"
    },
    {
     "name": "stdout",
     "output_type": "stream",
     "text": [
      "[Row(parameter='pm25', location='Smithton', value=1.0, city='Tasmania Region', country='AU', sourcename='Australia - Tasmania', sourcetype='government', aggdate='2018-01-07', ismobile=0, value_vec=DenseVector([1.0]), value_scaled=DenseVector([0.0001]), aggdt=datetime.date(2018, 1, 7), year=2018, month=1, quarter=1, day='7', isBadAir=0, indexed_parameter=5.0, indexed_location=521.0, indexed_city=12.0, indexed_country=10.0, indexed_sourcename=13.0, indexed_sourcetype=0.0, vec_parameter=SparseVector(6, {5: 1.0})), Row(parameter='pm10', location='Smithton', value=1.0, city='Tasmania Region', country='AU', sourcename='Australia - Tasmania', sourcetype='government', aggdate='2018-01-07', ismobile=0, value_vec=DenseVector([1.0]), value_scaled=DenseVector([0.0001]), aggdt=datetime.date(2018, 1, 7), year=2018, month=1, quarter=1, day='7', isBadAir=0, indexed_parameter=4.0, indexed_location=521.0, indexed_city=12.0, indexed_country=10.0, indexed_sourcename=13.0, indexed_sourcetype=0.0, vec_parameter=SparseVector(6, {4: 1.0})), Row(parameter='pm25', location='Wynyard', value=3.0, city='Tasmania Region', country='AU', sourcename='Australia - Tasmania', sourcetype='government', aggdate='2018-01-07', ismobile=0, value_vec=DenseVector([3.0]), value_scaled=DenseVector([0.0003]), aggdt=datetime.date(2018, 1, 7), year=2018, month=1, quarter=1, day='7', isBadAir=0, indexed_parameter=5.0, indexed_location=501.0, indexed_city=12.0, indexed_country=10.0, indexed_sourcename=13.0, indexed_sourcetype=0.0, vec_parameter=SparseVector(6, {5: 1.0}))]"
     ]
    }
   ],
   "source": [
    "enc_pipeline = Pipeline(stages=[parameter_indexer, location_indexer, city_indexer, country_indexer, sourcename_indexer, sourcetype_indexer, enc_est])\n",
    "enc_model = enc_pipeline.fit(xform_df)\n",
    "enc_df = enc_model.transform(xform_df)\n",
    "enc_df.head(3)"
   ]
  },
  {
   "cell_type": "code",
   "execution_count": 42,
   "id": "united-moore",
   "metadata": {},
   "outputs": [
    {
     "data": {
      "application/vnd.jupyter.widget-view+json": {
       "model_id": "e5126cd7ce324aa4828706937f1daec1",
       "version_major": 2,
       "version_minor": 0
      },
      "text/plain": [
       "FloatProgress(value=0.0, bar_style='info', description='Progress:', layout=Layout(height='25px', width='50%'),…"
      ]
     },
     "metadata": {},
     "output_type": "display_data"
    },
    {
     "name": "stdout",
     "output_type": "stream",
     "text": [
      "['no2', 'o3', 'so2', 'co', 'pm10', 'pm25', 'bc']"
     ]
    }
   ],
   "source": [
    "param_cols = enc_df.schema.fields[17].metadata['ml_attr']['vals']\n",
    "param_cols"
   ]
  },
  {
   "cell_type": "markdown",
   "id": "quality-keeping",
   "metadata": {},
   "source": [
    "## Split and save"
   ]
  },
  {
   "cell_type": "code",
   "execution_count": 31,
   "id": "healthy-klein",
   "metadata": {},
   "outputs": [
    {
     "data": {
      "application/vnd.jupyter.widget-view+json": {
       "model_id": "58bb9144645e4182b2cf95f4289144fe",
       "version_major": 2,
       "version_minor": 0
      },
      "text/plain": [
       "FloatProgress(value=0.0, bar_style='info', description='Progress:', layout=Layout(height='25px', width='50%'),…"
      ]
     },
     "metadata": {},
     "output_type": "display_data"
    },
    {
     "name": "stdout",
     "output_type": "stream",
     "text": [
      "root\n",
      " |-- parameter: string (nullable = true)\n",
      " |-- location: string (nullable = true)\n",
      " |-- value: double (nullable = true)\n",
      " |-- city: string (nullable = true)\n",
      " |-- country: string (nullable = true)\n",
      " |-- sourcename: string (nullable = true)\n",
      " |-- sourcetype: string (nullable = true)\n",
      " |-- aggdate: string (nullable = true)\n",
      " |-- ismobile: integer (nullable = true)\n",
      " |-- value_vec: vector (nullable = true)\n",
      " |-- value_scaled: vector (nullable = true)\n",
      " |-- aggdt: date (nullable = true)\n",
      " |-- year: integer (nullable = true)\n",
      " |-- month: integer (nullable = true)\n",
      " |-- quarter: integer (nullable = true)\n",
      " |-- day: string (nullable = true)\n",
      " |-- isBadAir: integer (nullable = true)\n",
      " |-- indexed_parameter: double (nullable = false)\n",
      " |-- indexed_location: double (nullable = false)\n",
      " |-- indexed_city: double (nullable = false)\n",
      " |-- indexed_country: double (nullable = false)\n",
      " |-- indexed_sourcename: double (nullable = false)\n",
      " |-- indexed_sourcetype: double (nullable = false)\n",
      " |-- vec_parameter: vector (nullable = true)"
     ]
    }
   ],
   "source": [
    "enc_df.printSchema()"
   ]
  },
  {
   "cell_type": "code",
   "execution_count": 50,
   "id": "social-charter",
   "metadata": {},
   "outputs": [
    {
     "data": {
      "application/vnd.jupyter.widget-view+json": {
       "model_id": "026129e13d5749eab04a74a6816eacd6",
       "version_major": 2,
       "version_minor": 0
      },
      "text/plain": [
       "FloatProgress(value=0.0, bar_style='info', description='Progress:', layout=Layout(height='25px', width='50%'),…"
      ]
     },
     "metadata": {},
     "output_type": "display_data"
    }
   ],
   "source": [
    "final_df = enc_df.drop('parameter').drop('location').drop('city').drop('country').drop('sourcename').drop('sourcetype').drop('aggdate') \\\n",
    "    .drop('value_vec').drop('aggdt').drop('indexed_parameter')\n",
    "#final_df.head(3)\n"
   ]
  },
  {
   "cell_type": "code",
   "execution_count": 51,
   "id": "swiss-station",
   "metadata": {},
   "outputs": [
    {
     "data": {
      "application/vnd.jupyter.widget-view+json": {
       "model_id": "109664cb51594a2080d1634c72a9a3c4",
       "version_major": 2,
       "version_minor": 0
      },
      "text/plain": [
       "FloatProgress(value=0.0, bar_style='info', description='Progress:', layout=Layout(height='25px', width='50%'),…"
      ]
     },
     "metadata": {},
     "output_type": "display_data"
    }
   ],
   "source": [
    "from pyspark.sql.types import DoubleType\n",
    "\n",
    "firstelement=udf(lambda v:str(v[0]),StringType())\n",
    "final_df = final_df.withColumn('value_str', firstelement('value_scaled'))\n",
    "final_df = final_df.withColumn(\"value\",final_df.value_str.cast(DoubleType())).drop('value_str').drop('value_scaled')\n",
    "#final_df.head(3)"
   ]
  },
  {
   "cell_type": "code",
   "execution_count": 52,
   "id": "welsh-conspiracy",
   "metadata": {},
   "outputs": [
    {
     "data": {
      "application/vnd.jupyter.widget-view+json": {
       "model_id": "e1f772da3907408e9952405bad11c7f8",
       "version_major": 2,
       "version_minor": 0
      },
      "text/plain": [
       "FloatProgress(value=0.0, bar_style='info', description='Progress:', layout=Layout(height='25px', width='50%'),…"
      ]
     },
     "metadata": {},
     "output_type": "display_data"
    }
   ],
   "source": [
    "from pyspark.ml.linalg import Vectors\n",
    "\n",
    "def extract(row):\n",
    "    return (row.value, row.ismobile, row.year, row.month, row.quarter, row.day, row.isBadAir, \n",
    "            row.indexed_location, row.indexed_city, row.indexed_sourcename, \n",
    "            row.indexed_sourcetype) + tuple(row.vec_parameter.toArray().tolist())\n",
    "\n",
    "final_df = final_df.rdd.map(extract).toDF([\"value\", \"ismobile\", \"year\", \"month\", \"quarter\", \"day\", \"isBadAir\",\n",
    "                               \"location\", \"city\", \"sourcename\", \"sourcetype\"] + param_cols[:-1])"
   ]
  },
  {
   "cell_type": "code",
   "execution_count": 53,
   "id": "lesser-keyboard",
   "metadata": {},
   "outputs": [
    {
     "data": {
      "application/vnd.jupyter.widget-view+json": {
       "model_id": "efa5cae6b8d449d0bfcf07cc7a261a7a",
       "version_major": 2,
       "version_minor": 0
      },
      "text/plain": [
       "FloatProgress(value=0.0, bar_style='info', description='Progress:', layout=Layout(height='25px', width='50%'),…"
      ]
     },
     "metadata": {},
     "output_type": "display_data"
    },
    {
     "name": "stdout",
     "output_type": "stream",
     "text": [
      "[Row(value=9.061035000521784e-05, ismobile=0, year=2018, month=1, quarter=1, day='13', isBadAir=0, location=521.0, city=12.0, sourcename=13.0, sourcetype=0.0, no2=0.0, o3=0.0, so2=0.0, co=0.0, pm10=0.0, pm25=1.0), Row(value=0.0007248828000417428, ismobile=0, year=2018, month=1, quarter=1, day='13', isBadAir=0, location=521.0, city=12.0, sourcename=13.0, sourcetype=0.0, no2=0.0, o3=0.0, so2=0.0, co=0.0, pm10=1.0, pm25=0.0), Row(value=9.061035000521784e-05, ismobile=0, year=2018, month=1, quarter=1, day='13', isBadAir=0, location=501.0, city=12.0, sourcename=13.0, sourcetype=0.0, no2=0.0, o3=0.0, so2=0.0, co=0.0, pm10=0.0, pm25=1.0)]"
     ]
    }
   ],
   "source": [
    "final_df.head(3)"
   ]
  },
  {
   "cell_type": "code",
   "execution_count": 54,
   "id": "dirty-sandwich",
   "metadata": {},
   "outputs": [
    {
     "data": {
      "application/vnd.jupyter.widget-view+json": {
       "model_id": "2d53bb337e3a4d42a2b75ed095be31de",
       "version_major": 2,
       "version_minor": 0
      },
      "text/plain": [
       "FloatProgress(value=0.0, bar_style='info', description='Progress:', layout=Layout(height='25px', width='50%'),…"
      ]
     },
     "metadata": {},
     "output_type": "display_data"
    }
   ],
   "source": [
    "(train_df, validation_df, test_df) = final_df.randomSplit([0.7, 0.2, 0.1])"
   ]
  },
  {
   "cell_type": "code",
   "execution_count": 56,
   "id": "million-norway",
   "metadata": {},
   "outputs": [
    {
     "data": {
      "application/vnd.jupyter.widget-view+json": {
       "model_id": "2a854c1fa59a4b438fe6e23fb4ecbfab",
       "version_major": 2,
       "version_minor": 0
      },
      "text/plain": [
       "FloatProgress(value=0.0, bar_style='info', description='Progress:', layout=Layout(height='25px', width='50%'),…"
      ]
     },
     "metadata": {},
     "output_type": "display_data"
    }
   ],
   "source": [
    "train_df.write.option(\"header\",True).csv(\"s3://rdtest-data/prepared/train/\")\n",
    "test_df.write.option(\"header\",True).csv(\"s3://rdtest-data/prepared/test/\")\n",
    "validation_df.write.option(\"header\",True).csv(\"s3://rdtest-data/prepared/validation/\")"
   ]
  },
  {
   "cell_type": "code",
   "execution_count": null,
   "id": "stainless-shirt",
   "metadata": {},
   "outputs": [],
   "source": []
  }
 ],
 "metadata": {
  "kernelspec": {
   "display_name": "Sparkmagic (PySpark)",
   "language": "python",
   "name": "pysparkkernel"
  },
  "language_info": {
   "codemirror_mode": {
    "name": "python",
    "version": 3
   },
   "file_extension": ".py",
   "mimetype": "text/x-python",
   "name": "pyspark",
   "pygments_lexer": "python3"
  }
 },
 "nbformat": 4,
 "nbformat_minor": 5
}
